{
 "cells": [
  {
   "cell_type": "code",
   "execution_count": 1,
   "id": "205f67cf",
   "metadata": {},
   "outputs": [],
   "source": [
    "# import libraries\n",
    "import numpy as np\n",
    "import pandas as pd\n",
    "import seaborn as sns\n",
    "import matplotlib.pyplot as plt\n",
    "sns.set() # Revert to matplotlib defaults\n",
    "plt.rcParams['figure.figsize'] = (16, 12)"
   ]
  },
  {
   "cell_type": "code",
   "execution_count": 2,
   "id": "d6fe477a",
   "metadata": {},
   "outputs": [],
   "source": [
    "# import libraries for algorithms traininng, and metrics to judge performance\n",
    "from sklearn.pipeline import Pipeline\n",
    "from sklearn.preprocessing import StandardScaler\n",
    "from sklearn.linear_model import LinearRegression\n",
    "from sklearn.ensemble import RandomForestRegressor\n",
    "from sklearn.ensemble import GradientBoostingRegressor\n",
    "from sklearn.model_selection import train_test_split\n",
    "from sklearn.metrics import mean_squared_error, mean_absolute_error, r2_score"
   ]
  },
  {
   "cell_type": "markdown",
   "id": "a82b941b",
   "metadata": {},
   "source": [
    "### Read Data and Set Features"
   ]
  },
  {
   "cell_type": "code",
   "execution_count": 3,
   "id": "254caedc",
   "metadata": {},
   "outputs": [],
   "source": [
    "data_file = '../data/clean_data.csv'"
   ]
  },
  {
   "cell_type": "code",
   "execution_count": 4,
   "id": "19fb46ce",
   "metadata": {},
   "outputs": [],
   "source": [
    "df_init = pd.read_csv(data_file)"
   ]
  },
  {
   "cell_type": "code",
   "execution_count": 5,
   "id": "e52e35a0",
   "metadata": {},
   "outputs": [
    {
     "data": {
      "text/plain": [
       "(1092, 13)"
      ]
     },
     "execution_count": 5,
     "metadata": {},
     "output_type": "execute_result"
    }
   ],
   "source": [
    "df_init.shape"
   ]
  },
  {
   "cell_type": "code",
   "execution_count": 6,
   "id": "7877cb53",
   "metadata": {},
   "outputs": [
    {
     "data": {
      "text/plain": [
       "Index(['Date', 'Temperature', 'DHI', 'DNI', 'Radiation', 'Precipitation',\n",
       "       'Humidity', 'Pressure', 'WindDirection', 'WindSpeed', 'Sunrise',\n",
       "       'Sunset', 'Month'],\n",
       "      dtype='object')"
      ]
     },
     "execution_count": 6,
     "metadata": {},
     "output_type": "execute_result"
    }
   ],
   "source": [
    "df_init.columns"
   ]
  },
  {
   "cell_type": "code",
   "execution_count": 7,
   "id": "4de55b27",
   "metadata": {},
   "outputs": [],
   "source": [
    "df_init['Date'] = pd.to_datetime(df_init['Date'], format='%Y-%m-%d')\n",
    "df_init['Year'] = df_init['Date'].dt.year\n",
    "df_init['Month'] = df_init['Date'].dt.month\n",
    "df_init['Day'] = df_init['Date'].dt.day"
   ]
  },
  {
   "cell_type": "code",
   "execution_count": 8,
   "id": "db7bc3fb",
   "metadata": {},
   "outputs": [
    {
     "data": {
      "text/plain": [
       "Index(['Date', 'Temperature', 'DHI', 'DNI', 'Radiation', 'Precipitation',\n",
       "       'Humidity', 'Pressure', 'WindDirection', 'WindSpeed', 'Sunrise',\n",
       "       'Sunset', 'Month', 'Year', 'Day'],\n",
       "      dtype='object')"
      ]
     },
     "execution_count": 8,
     "metadata": {},
     "output_type": "execute_result"
    }
   ],
   "source": [
    "df_init.columns"
   ]
  },
  {
   "cell_type": "code",
   "execution_count": 9,
   "id": "a4606c53",
   "metadata": {},
   "outputs": [
    {
     "data": {
      "text/html": [
       "<div>\n",
       "<style scoped>\n",
       "    .dataframe tbody tr th:only-of-type {\n",
       "        vertical-align: middle;\n",
       "    }\n",
       "\n",
       "    .dataframe tbody tr th {\n",
       "        vertical-align: top;\n",
       "    }\n",
       "\n",
       "    .dataframe thead th {\n",
       "        text-align: right;\n",
       "    }\n",
       "</style>\n",
       "<table border=\"1\" class=\"dataframe\">\n",
       "  <thead>\n",
       "    <tr style=\"text-align: right;\">\n",
       "      <th></th>\n",
       "      <th>Month</th>\n",
       "      <th>Day</th>\n",
       "      <th>Temperature</th>\n",
       "      <th>Precipitation</th>\n",
       "      <th>Humidity</th>\n",
       "      <th>Pressure</th>\n",
       "      <th>WindDirection</th>\n",
       "      <th>WindSpeed</th>\n",
       "      <th>DNI</th>\n",
       "      <th>DHI</th>\n",
       "      <th>Radiation</th>\n",
       "    </tr>\n",
       "  </thead>\n",
       "  <tbody>\n",
       "    <tr>\n",
       "      <th>0</th>\n",
       "      <td>12</td>\n",
       "      <td>31</td>\n",
       "      <td>17.954545</td>\n",
       "      <td>30.100000</td>\n",
       "      <td>93.272727</td>\n",
       "      <td>985.781818</td>\n",
       "      <td>182.181818</td>\n",
       "      <td>5.363636</td>\n",
       "      <td>11.181818</td>\n",
       "      <td>83.545455</td>\n",
       "      <td>85.909091</td>\n",
       "    </tr>\n",
       "    <tr>\n",
       "      <th>1</th>\n",
       "      <td>1</td>\n",
       "      <td>1</td>\n",
       "      <td>17.145455</td>\n",
       "      <td>32.600000</td>\n",
       "      <td>85.090909</td>\n",
       "      <td>988.036364</td>\n",
       "      <td>293.454545</td>\n",
       "      <td>2.009091</td>\n",
       "      <td>9.000000</td>\n",
       "      <td>119.818182</td>\n",
       "      <td>122.454545</td>\n",
       "    </tr>\n",
       "    <tr>\n",
       "      <th>2</th>\n",
       "      <td>1</td>\n",
       "      <td>2</td>\n",
       "      <td>13.372727</td>\n",
       "      <td>29.018182</td>\n",
       "      <td>83.090909</td>\n",
       "      <td>989.472727</td>\n",
       "      <td>271.727273</td>\n",
       "      <td>0.736364</td>\n",
       "      <td>5.363636</td>\n",
       "      <td>74.181818</td>\n",
       "      <td>74.636364</td>\n",
       "    </tr>\n",
       "    <tr>\n",
       "      <th>3</th>\n",
       "      <td>1</td>\n",
       "      <td>3</td>\n",
       "      <td>12.481818</td>\n",
       "      <td>32.000000</td>\n",
       "      <td>92.181818</td>\n",
       "      <td>985.063636</td>\n",
       "      <td>340.909091</td>\n",
       "      <td>1.545455</td>\n",
       "      <td>0.000000</td>\n",
       "      <td>60.272727</td>\n",
       "      <td>60.272727</td>\n",
       "    </tr>\n",
       "    <tr>\n",
       "      <th>4</th>\n",
       "      <td>1</td>\n",
       "      <td>4</td>\n",
       "      <td>14.909091</td>\n",
       "      <td>24.436364</td>\n",
       "      <td>95.090909</td>\n",
       "      <td>975.718182</td>\n",
       "      <td>203.090909</td>\n",
       "      <td>5.545455</td>\n",
       "      <td>110.000000</td>\n",
       "      <td>91.090909</td>\n",
       "      <td>128.636364</td>\n",
       "    </tr>\n",
       "  </tbody>\n",
       "</table>\n",
       "</div>"
      ],
      "text/plain": [
       "   Month  Day  Temperature  Precipitation   Humidity    Pressure  \\\n",
       "0     12   31    17.954545      30.100000  93.272727  985.781818   \n",
       "1      1    1    17.145455      32.600000  85.090909  988.036364   \n",
       "2      1    2    13.372727      29.018182  83.090909  989.472727   \n",
       "3      1    3    12.481818      32.000000  92.181818  985.063636   \n",
       "4      1    4    14.909091      24.436364  95.090909  975.718182   \n",
       "\n",
       "   WindDirection  WindSpeed         DNI         DHI   Radiation  \n",
       "0     182.181818   5.363636   11.181818   83.545455   85.909091  \n",
       "1     293.454545   2.009091    9.000000  119.818182  122.454545  \n",
       "2     271.727273   0.736364    5.363636   74.181818   74.636364  \n",
       "3     340.909091   1.545455    0.000000   60.272727   60.272727  \n",
       "4     203.090909   5.545455  110.000000   91.090909  128.636364  "
      ]
     },
     "execution_count": 9,
     "metadata": {},
     "output_type": "execute_result"
    }
   ],
   "source": [
    "df_init = df_init[['Month', 'Day', 'Temperature', 'Precipitation', 'Humidity',\n",
    "       'Pressure', 'WindDirection', 'WindSpeed', 'DNI',\n",
    "       'DHI', 'Radiation']]\n",
    "df_init.head()"
   ]
  },
  {
   "cell_type": "markdown",
   "id": "e971d86d",
   "metadata": {},
   "source": [
    "### Read and Split Data [train, val, test] and Split into X, Y"
   ]
  },
  {
   "cell_type": "code",
   "execution_count": 10,
   "id": "1b13d335",
   "metadata": {},
   "outputs": [
    {
     "data": {
      "text/html": [
       "<div>\n",
       "<style scoped>\n",
       "    .dataframe tbody tr th:only-of-type {\n",
       "        vertical-align: middle;\n",
       "    }\n",
       "\n",
       "    .dataframe tbody tr th {\n",
       "        vertical-align: top;\n",
       "    }\n",
       "\n",
       "    .dataframe thead th {\n",
       "        text-align: right;\n",
       "    }\n",
       "</style>\n",
       "<table border=\"1\" class=\"dataframe\">\n",
       "  <thead>\n",
       "    <tr style=\"text-align: right;\">\n",
       "      <th></th>\n",
       "      <th>Month</th>\n",
       "      <th>Day</th>\n",
       "      <th>Temperature</th>\n",
       "      <th>Precipitation</th>\n",
       "      <th>Humidity</th>\n",
       "      <th>Pressure</th>\n",
       "      <th>WindDirection</th>\n",
       "      <th>WindSpeed</th>\n",
       "      <th>DNI</th>\n",
       "      <th>DHI</th>\n",
       "      <th>Radiation</th>\n",
       "    </tr>\n",
       "  </thead>\n",
       "  <tbody>\n",
       "    <tr>\n",
       "      <th>643</th>\n",
       "      <td>10</td>\n",
       "      <td>4</td>\n",
       "      <td>20.346154</td>\n",
       "      <td>19.146154</td>\n",
       "      <td>40.000000</td>\n",
       "      <td>986.384615</td>\n",
       "      <td>96.692308</td>\n",
       "      <td>1.661538</td>\n",
       "      <td>350.846154</td>\n",
       "      <td>170.615385</td>\n",
       "      <td>385.000000</td>\n",
       "    </tr>\n",
       "    <tr>\n",
       "      <th>362</th>\n",
       "      <td>12</td>\n",
       "      <td>28</td>\n",
       "      <td>15.981818</td>\n",
       "      <td>30.172727</td>\n",
       "      <td>79.272727</td>\n",
       "      <td>986.781818</td>\n",
       "      <td>101.909091</td>\n",
       "      <td>3.100000</td>\n",
       "      <td>19.090909</td>\n",
       "      <td>155.000000</td>\n",
       "      <td>164.363636</td>\n",
       "    </tr>\n",
       "    <tr>\n",
       "      <th>107</th>\n",
       "      <td>4</td>\n",
       "      <td>17</td>\n",
       "      <td>21.742857</td>\n",
       "      <td>12.864286</td>\n",
       "      <td>45.071429</td>\n",
       "      <td>987.892857</td>\n",
       "      <td>187.857143</td>\n",
       "      <td>2.478571</td>\n",
       "      <td>523.285714</td>\n",
       "      <td>154.357143</td>\n",
       "      <td>520.714286</td>\n",
       "    </tr>\n",
       "    <tr>\n",
       "      <th>528</th>\n",
       "      <td>6</td>\n",
       "      <td>11</td>\n",
       "      <td>27.260000</td>\n",
       "      <td>23.760000</td>\n",
       "      <td>48.866667</td>\n",
       "      <td>983.893333</td>\n",
       "      <td>299.733333</td>\n",
       "      <td>3.440000</td>\n",
       "      <td>664.600000</td>\n",
       "      <td>92.333333</td>\n",
       "      <td>574.200000</td>\n",
       "    </tr>\n",
       "    <tr>\n",
       "      <th>791</th>\n",
       "      <td>3</td>\n",
       "      <td>1</td>\n",
       "      <td>15.750000</td>\n",
       "      <td>27.933333</td>\n",
       "      <td>71.833333</td>\n",
       "      <td>983.883333</td>\n",
       "      <td>298.166667</td>\n",
       "      <td>3.783333</td>\n",
       "      <td>1.500000</td>\n",
       "      <td>88.250000</td>\n",
       "      <td>88.333333</td>\n",
       "    </tr>\n",
       "    <tr>\n",
       "      <th>...</th>\n",
       "      <td>...</td>\n",
       "      <td>...</td>\n",
       "      <td>...</td>\n",
       "      <td>...</td>\n",
       "      <td>...</td>\n",
       "      <td>...</td>\n",
       "      <td>...</td>\n",
       "      <td>...</td>\n",
       "      <td>...</td>\n",
       "      <td>...</td>\n",
       "      <td>...</td>\n",
       "    </tr>\n",
       "    <tr>\n",
       "      <th>888</th>\n",
       "      <td>6</td>\n",
       "      <td>6</td>\n",
       "      <td>25.940000</td>\n",
       "      <td>43.813333</td>\n",
       "      <td>64.933333</td>\n",
       "      <td>984.246667</td>\n",
       "      <td>190.666667</td>\n",
       "      <td>1.880000</td>\n",
       "      <td>24.200000</td>\n",
       "      <td>293.733333</td>\n",
       "      <td>313.866667</td>\n",
       "    </tr>\n",
       "    <tr>\n",
       "      <th>893</th>\n",
       "      <td>6</td>\n",
       "      <td>11</td>\n",
       "      <td>25.640000</td>\n",
       "      <td>43.473333</td>\n",
       "      <td>72.933333</td>\n",
       "      <td>978.973333</td>\n",
       "      <td>263.600000</td>\n",
       "      <td>3.813333</td>\n",
       "      <td>74.400000</td>\n",
       "      <td>222.533333</td>\n",
       "      <td>283.466667</td>\n",
       "    </tr>\n",
       "    <tr>\n",
       "      <th>161</th>\n",
       "      <td>6</td>\n",
       "      <td>10</td>\n",
       "      <td>27.513333</td>\n",
       "      <td>49.006667</td>\n",
       "      <td>64.000000</td>\n",
       "      <td>981.133333</td>\n",
       "      <td>250.266667</td>\n",
       "      <td>2.020000</td>\n",
       "      <td>1.266667</td>\n",
       "      <td>271.866667</td>\n",
       "      <td>272.533333</td>\n",
       "    </tr>\n",
       "    <tr>\n",
       "      <th>324</th>\n",
       "      <td>11</td>\n",
       "      <td>20</td>\n",
       "      <td>13.245455</td>\n",
       "      <td>8.645455</td>\n",
       "      <td>46.000000</td>\n",
       "      <td>986.872727</td>\n",
       "      <td>331.454545</td>\n",
       "      <td>3.072727</td>\n",
       "      <td>684.181818</td>\n",
       "      <td>55.727273</td>\n",
       "      <td>355.727273</td>\n",
       "    </tr>\n",
       "    <tr>\n",
       "      <th>4</th>\n",
       "      <td>1</td>\n",
       "      <td>4</td>\n",
       "      <td>14.909091</td>\n",
       "      <td>24.436364</td>\n",
       "      <td>95.090909</td>\n",
       "      <td>975.718182</td>\n",
       "      <td>203.090909</td>\n",
       "      <td>5.545455</td>\n",
       "      <td>110.000000</td>\n",
       "      <td>91.090909</td>\n",
       "      <td>128.636364</td>\n",
       "    </tr>\n",
       "  </tbody>\n",
       "</table>\n",
       "<p>1092 rows × 11 columns</p>\n",
       "</div>"
      ],
      "text/plain": [
       "     Month  Day  Temperature  Precipitation   Humidity    Pressure  \\\n",
       "643     10    4    20.346154      19.146154  40.000000  986.384615   \n",
       "362     12   28    15.981818      30.172727  79.272727  986.781818   \n",
       "107      4   17    21.742857      12.864286  45.071429  987.892857   \n",
       "528      6   11    27.260000      23.760000  48.866667  983.893333   \n",
       "791      3    1    15.750000      27.933333  71.833333  983.883333   \n",
       "..     ...  ...          ...            ...        ...         ...   \n",
       "888      6    6    25.940000      43.813333  64.933333  984.246667   \n",
       "893      6   11    25.640000      43.473333  72.933333  978.973333   \n",
       "161      6   10    27.513333      49.006667  64.000000  981.133333   \n",
       "324     11   20    13.245455       8.645455  46.000000  986.872727   \n",
       "4        1    4    14.909091      24.436364  95.090909  975.718182   \n",
       "\n",
       "     WindDirection  WindSpeed         DNI         DHI   Radiation  \n",
       "643      96.692308   1.661538  350.846154  170.615385  385.000000  \n",
       "362     101.909091   3.100000   19.090909  155.000000  164.363636  \n",
       "107     187.857143   2.478571  523.285714  154.357143  520.714286  \n",
       "528     299.733333   3.440000  664.600000   92.333333  574.200000  \n",
       "791     298.166667   3.783333    1.500000   88.250000   88.333333  \n",
       "..             ...        ...         ...         ...         ...  \n",
       "888     190.666667   1.880000   24.200000  293.733333  313.866667  \n",
       "893     263.600000   3.813333   74.400000  222.533333  283.466667  \n",
       "161     250.266667   2.020000    1.266667  271.866667  272.533333  \n",
       "324     331.454545   3.072727  684.181818   55.727273  355.727273  \n",
       "4       203.090909   5.545455  110.000000   91.090909  128.636364  \n",
       "\n",
       "[1092 rows x 11 columns]"
      ]
     },
     "execution_count": 10,
     "metadata": {},
     "output_type": "execute_result"
    }
   ],
   "source": [
    "df_init.sample(frac=1)  ### the frac=1 results in complete df being shuffled"
   ]
  },
  {
   "cell_type": "code",
   "execution_count": 11,
   "id": "3444af75",
   "metadata": {},
   "outputs": [],
   "source": [
    "train_data, val_data, test_data = np.split(df_init.sample(frac=1), [int(.7 * len(df_init)), \n",
    "                                                                    int(.85 * len(df_init))])"
   ]
  },
  {
   "cell_type": "code",
   "execution_count": 12,
   "id": "bdef6adf",
   "metadata": {},
   "outputs": [
    {
     "data": {
      "text/plain": [
       "((764, 11), (164, 11), (164, 11))"
      ]
     },
     "execution_count": 12,
     "metadata": {},
     "output_type": "execute_result"
    }
   ],
   "source": [
    "train_data.shape, val_data.shape, test_data.shape"
   ]
  },
  {
   "cell_type": "code",
   "execution_count": 13,
   "id": "7447f98a",
   "metadata": {},
   "outputs": [],
   "source": [
    "X_train = train_data.drop(['Radiation'], axis=1)\n",
    "Y_train = train_data['Radiation']\n",
    "\n",
    "X_test = test_data.drop(['Radiation'], axis=1)\n",
    "Y_test = test_data['Radiation']"
   ]
  },
  {
   "cell_type": "code",
   "execution_count": 14,
   "id": "f69d2d63",
   "metadata": {},
   "outputs": [
    {
     "data": {
      "text/html": [
       "<div>\n",
       "<style scoped>\n",
       "    .dataframe tbody tr th:only-of-type {\n",
       "        vertical-align: middle;\n",
       "    }\n",
       "\n",
       "    .dataframe tbody tr th {\n",
       "        vertical-align: top;\n",
       "    }\n",
       "\n",
       "    .dataframe thead th {\n",
       "        text-align: right;\n",
       "    }\n",
       "</style>\n",
       "<table border=\"1\" class=\"dataframe\">\n",
       "  <thead>\n",
       "    <tr style=\"text-align: right;\">\n",
       "      <th></th>\n",
       "      <th>Month</th>\n",
       "      <th>Day</th>\n",
       "      <th>Temperature</th>\n",
       "      <th>Precipitation</th>\n",
       "      <th>Humidity</th>\n",
       "      <th>Pressure</th>\n",
       "      <th>WindDirection</th>\n",
       "      <th>WindSpeed</th>\n",
       "      <th>DNI</th>\n",
       "      <th>DHI</th>\n",
       "    </tr>\n",
       "  </thead>\n",
       "  <tbody>\n",
       "    <tr>\n",
       "      <th>982</th>\n",
       "      <td>9</td>\n",
       "      <td>8</td>\n",
       "      <td>25.369231</td>\n",
       "      <td>44.453846</td>\n",
       "      <td>77.692308</td>\n",
       "      <td>978.684615</td>\n",
       "      <td>212.538462</td>\n",
       "      <td>2.038462</td>\n",
       "      <td>91.769231</td>\n",
       "      <td>275.769231</td>\n",
       "    </tr>\n",
       "    <tr>\n",
       "      <th>667</th>\n",
       "      <td>10</td>\n",
       "      <td>28</td>\n",
       "      <td>22.927273</td>\n",
       "      <td>46.972727</td>\n",
       "      <td>83.090909</td>\n",
       "      <td>982.545455</td>\n",
       "      <td>151.000000</td>\n",
       "      <td>2.936364</td>\n",
       "      <td>0.000000</td>\n",
       "      <td>106.000000</td>\n",
       "    </tr>\n",
       "    <tr>\n",
       "      <th>136</th>\n",
       "      <td>5</td>\n",
       "      <td>16</td>\n",
       "      <td>23.553333</td>\n",
       "      <td>24.746667</td>\n",
       "      <td>55.066667</td>\n",
       "      <td>984.953333</td>\n",
       "      <td>271.266667</td>\n",
       "      <td>2.333333</td>\n",
       "      <td>433.066667</td>\n",
       "      <td>174.200000</td>\n",
       "    </tr>\n",
       "  </tbody>\n",
       "</table>\n",
       "</div>"
      ],
      "text/plain": [
       "     Month  Day  Temperature  Precipitation   Humidity    Pressure  \\\n",
       "982      9    8    25.369231      44.453846  77.692308  978.684615   \n",
       "667     10   28    22.927273      46.972727  83.090909  982.545455   \n",
       "136      5   16    23.553333      24.746667  55.066667  984.953333   \n",
       "\n",
       "     WindDirection  WindSpeed         DNI         DHI  \n",
       "982     212.538462   2.038462   91.769231  275.769231  \n",
       "667     151.000000   2.936364    0.000000  106.000000  \n",
       "136     271.266667   2.333333  433.066667  174.200000  "
      ]
     },
     "execution_count": 14,
     "metadata": {},
     "output_type": "execute_result"
    }
   ],
   "source": [
    "X_train.head(3)"
   ]
  },
  {
   "cell_type": "code",
   "execution_count": 15,
   "id": "0bc39312",
   "metadata": {},
   "outputs": [
    {
     "data": {
      "text/plain": [
       "982    322.769231\n",
       "667    106.000000\n",
       "136    501.066667\n",
       "Name: Radiation, dtype: float64"
      ]
     },
     "execution_count": 15,
     "metadata": {},
     "output_type": "execute_result"
    }
   ],
   "source": [
    "Y_train.head(3)"
   ]
  },
  {
   "cell_type": "markdown",
   "id": "e4b4d3f3",
   "metadata": {},
   "source": [
    "### Linear Regression Model: Training + Testing"
   ]
  },
  {
   "cell_type": "code",
   "execution_count": 16,
   "id": "e8b67ea9",
   "metadata": {},
   "outputs": [],
   "source": [
    "steps = [('scaler', StandardScaler()), ('lr', LinearRegression())]\n",
    "pipeline_lr = Pipeline(steps)"
   ]
  },
  {
   "cell_type": "code",
   "execution_count": 17,
   "id": "7b8824b8",
   "metadata": {},
   "outputs": [
    {
     "data": {
      "text/plain": [
       "Pipeline(steps=[('scaler', StandardScaler()), ('lr', LinearRegression())])"
      ]
     },
     "execution_count": 17,
     "metadata": {},
     "output_type": "execute_result"
    }
   ],
   "source": [
    "pipeline_lr.fit(X_train, Y_train)"
   ]
  },
  {
   "cell_type": "code",
   "execution_count": 18,
   "id": "4b40c9f4",
   "metadata": {},
   "outputs": [],
   "source": [
    "Y_pred_lr = pipeline_lr.predict(X_test)"
   ]
  },
  {
   "cell_type": "code",
   "execution_count": 19,
   "id": "bd8e7087",
   "metadata": {},
   "outputs": [
    {
     "data": {
      "text/plain": [
       "164"
      ]
     },
     "execution_count": 19,
     "metadata": {},
     "output_type": "execute_result"
    }
   ],
   "source": [
    "len(Y_pred_lr)"
   ]
  },
  {
   "cell_type": "code",
   "execution_count": 20,
   "id": "b0b015fb",
   "metadata": {},
   "outputs": [
    {
     "name": "stdout",
     "output_type": "stream",
     "text": [
      "r2_score:  0.9487861144340148\n",
      "Root Mean Squared Error: 5.73\n",
      "Root Mean Absolute Error: 5.09\n"
     ]
    }
   ],
   "source": [
    "# Evaluating algorithm performance\n",
    "\n",
    "mse = mean_squared_error(Y_test, Y_pred_lr, squared = False)\n",
    "mae = mean_absolute_error(Y_test, Y_pred_lr)\n",
    "\n",
    "print('r2_score: ', r2_score(Y_test, Y_pred_lr))\n",
    "print('Root Mean Squared Error: %.2f' % np.sqrt(mse))\n",
    "print('Root Mean Absolute Error: %.2f' % np.sqrt(mae))"
   ]
  },
  {
   "cell_type": "code",
   "execution_count": 21,
   "id": "20b3c823",
   "metadata": {
    "scrolled": true
   },
   "outputs": [
    {
     "data": {
      "image/png": "[encoded data removed]",
      "text/plain": [
       "<Figure size 1152x864 with 1 Axes>"
      ]
     },
     "metadata": {},
     "output_type": "display_data"
    }
   ],
   "source": [
    "# Run the model against the test data presented through a plot\n",
    "fig, pX = plt.subplots()\n",
    "\n",
    "pX.scatter(Y_test, Y_pred_lr, edgecolors = (0, 0, 0))\n",
    "pX.plot([Y_test.min(), Y_test.max()], [Y_test.min(), Y_test.max()], 'm--', lw = 3)\n",
    "pX.set_xlabel('Actual Solar Irradiation')\n",
    "pX.set_ylabel('Predicted Solar Irradiation')\n",
    "pX.set_title(\"Verified Radiation (x-axis) vs Predicted Solar Irradiation(y-axis)\")\n",
    "plt.show() "
   ]
  },
  {
   "cell_type": "code",
   "execution_count": 22,
   "id": "56c010da",
   "metadata": {},
   "outputs": [
    {
     "name": "stderr",
     "output_type": "stream",
     "text": [
      "/home/mansoor/Projects/MLOps/venv-mlops/lib/python3.6/site-packages/seaborn/_decorators.py:43: FutureWarning: Pass the following variables as keyword args: x, y. From version 0.12, the only valid positional argument will be `data`, and passing other arguments without an explicit keyword will result in an error or misinterpretation.\n",
      "  FutureWarning\n"
     ]
    },
    {
     "data": {
      "image/png": "[encoded data removed]",
      "text/plain": [
       "<Figure size 432x432 with 3 Axes>"
      ]
     },
     "metadata": {},
     "output_type": "display_data"
    }
   ],
   "source": [
    "sns.jointplot(Y_test, Y_pred_lr, kind = 'reg')\n",
    "plt.show()"
   ]
  },
  {
   "cell_type": "markdown",
   "id": "53aeadf9",
   "metadata": {},
   "source": [
    "### Random Forest: Training + Testing"
   ]
  },
  {
   "cell_type": "code",
   "execution_count": 23,
   "id": "f8911b2f",
   "metadata": {},
   "outputs": [],
   "source": [
    "# Setup the pipeline steps for random forest: steps\n",
    "steps = [('scaler', StandardScaler()), ('rfr', RandomForestRegressor())]"
   ]
  },
  {
   "cell_type": "code",
   "execution_count": 24,
   "id": "63f51c0d",
   "metadata": {},
   "outputs": [],
   "source": [
    "# Create the pipeline: pipeline\n",
    "pipeline_rfr = Pipeline(steps)"
   ]
  },
  {
   "cell_type": "code",
   "execution_count": 25,
   "id": "e99a8094",
   "metadata": {},
   "outputs": [
    {
     "data": {
      "text/plain": [
       "Pipeline(steps=[('scaler', StandardScaler()), ('rfr', RandomForestRegressor())])"
      ]
     },
     "execution_count": 25,
     "metadata": {},
     "output_type": "execute_result"
    }
   ],
   "source": [
    "# Fit the pipeline to the train set\n",
    "pipeline_rfr.fit(X_train, Y_train)"
   ]
  },
  {
   "cell_type": "code",
   "execution_count": 26,
   "id": "bcce0f30",
   "metadata": {},
   "outputs": [],
   "source": [
    "# Predict the labels of the test set\n",
    "Y_pred_rfr = pipeline_rfr.predict(X_test)"
   ]
  },
  {
   "cell_type": "code",
   "execution_count": 27,
   "id": "48be317b",
   "metadata": {},
   "outputs": [
    {
     "name": "stdout",
     "output_type": "stream",
     "text": [
      "r2_score:  0.9875720263721512\n",
      "Root Mean Squared Error: 4.02\n",
      "Root Mean Absolute Error: 3.39\n"
     ]
    }
   ],
   "source": [
    "# Evaluating algorithm performance\n",
    "\n",
    "mse_rf = mean_squared_error(Y_test, Y_pred_rfr, squared = False)\n",
    "mae_rf = mean_absolute_error(Y_test, Y_pred_rfr)\n",
    "\n",
    "\n",
    "print('r2_score: ', r2_score(Y_test, Y_pred_rfr))\n",
    "print('Root Mean Squared Error: %.2f' % np.sqrt(mse_rf))\n",
    "print('Root Mean Absolute Error: %.2f' % np.sqrt(mae_rf))"
   ]
  },
  {
   "cell_type": "code",
   "execution_count": 28,
   "id": "91aef641",
   "metadata": {},
   "outputs": [
    {
     "data": {
      "image/png": "[encoded data removed]",
      "text/plain": [
       "<Figure size 1152x864 with 1 Axes>"
      ]
     },
     "metadata": {},
     "output_type": "display_data"
    }
   ],
   "source": [
    "# Run the model against the test data presented through a plot\n",
    "fig, pX = plt.subplots()\n",
    "\n",
    "pX.scatter(Y_test, Y_pred_rfr, edgecolors = (0, 0, 0))\n",
    "pX.plot([Y_test.min(), Y_test.max()], [Y_test.min(), Y_test.max()], 'm--', lw = 3)\n",
    "pX.set_xlabel('Actual solar irradiation')\n",
    "pX.set_ylabel('Predicted solar irradiation')\n",
    "pX.set_title(\" Random Forest: Verified vs Predicted solar irradiation\")\n",
    "plt.show()"
   ]
  },
  {
   "cell_type": "code",
   "execution_count": 29,
   "id": "0def036e",
   "metadata": {},
   "outputs": [
    {
     "name": "stderr",
     "output_type": "stream",
     "text": [
      "/home/mansoor/Projects/MLOps/venv-mlops/lib/python3.6/site-packages/seaborn/_decorators.py:43: FutureWarning: Pass the following variables as keyword args: x, y. From version 0.12, the only valid positional argument will be `data`, and passing other arguments without an explicit keyword will result in an error or misinterpretation.\n",
      "  FutureWarning\n"
     ]
    },
    {
     "data": {
      "image/png": "[encoded data removed]",
      "text/plain": [
       "<Figure size 432x432 with 3 Axes>"
      ]
     },
     "metadata": {},
     "output_type": "display_data"
    }
   ],
   "source": [
    "sns.jointplot(Y_test, Y_pred_rfr, kind = 'reg')\n",
    "plt.show()"
   ]
  },
  {
   "cell_type": "markdown",
   "id": "224b1323",
   "metadata": {},
   "source": [
    "### GradientBoosting Regressor: Training + Testing\n"
   ]
  },
  {
   "cell_type": "code",
   "execution_count": 30,
   "id": "9549fa37",
   "metadata": {},
   "outputs": [],
   "source": [
    "# Setup the pipeline steps: steps\n",
    "steps = [('scaler', StandardScaler()), ('gbr', GradientBoostingRegressor())]"
   ]
  },
  {
   "cell_type": "code",
   "execution_count": 31,
   "id": "2f36ea3c",
   "metadata": {},
   "outputs": [],
   "source": [
    "# Create the pipeline: pipeline\n",
    "pipeline_gbr = Pipeline(steps)"
   ]
  },
  {
   "cell_type": "code",
   "execution_count": 32,
   "id": "149a825d",
   "metadata": {},
   "outputs": [
    {
     "data": {
      "text/plain": [
       "Pipeline(steps=[('scaler', StandardScaler()),\n",
       "                ('gbr', GradientBoostingRegressor())])"
      ]
     },
     "execution_count": 32,
     "metadata": {},
     "output_type": "execute_result"
    }
   ],
   "source": [
    "# Fit the pipeline to the train set\n",
    "pipeline_gbr.fit(X_train, Y_train)"
   ]
  },
  {
   "cell_type": "code",
   "execution_count": 33,
   "id": "1c635775",
   "metadata": {},
   "outputs": [],
   "source": [
    "# Predict the labels of the test set\n",
    "Y_pred_gbr = pipeline_gbr.predict(X_test)"
   ]
  },
  {
   "cell_type": "code",
   "execution_count": 34,
   "id": "b1516e8a",
   "metadata": {},
   "outputs": [
    {
     "data": {
      "text/plain": [
       "164"
      ]
     },
     "execution_count": 34,
     "metadata": {},
     "output_type": "execute_result"
    }
   ],
   "source": [
    "len(Y_pred_gbr)"
   ]
  },
  {
   "cell_type": "code",
   "execution_count": 35,
   "id": "6dc02eeb",
   "metadata": {},
   "outputs": [
    {
     "name": "stdout",
     "output_type": "stream",
     "text": [
      "r2_score:  0.9879108943491671\n",
      "Root Mean Squared Error: 4.00\n",
      "Root Mean Absolute Error: 3.54\n"
     ]
    }
   ],
   "source": [
    "# Evaluating algorithm performance\n",
    "\n",
    "mse_gr = mean_squared_error(Y_test, Y_pred_gbr, squared = False)\n",
    "mae_gr = mean_absolute_error(Y_test, Y_pred_gbr)\n",
    "\n",
    "\n",
    "print('r2_score: ', r2_score(Y_test, Y_pred_gbr))\n",
    "print('Root Mean Squared Error: %.2f' % np.sqrt(mse_gr))\n",
    "print('Root Mean Absolute Error: %.2f' % np.sqrt(mae_gr))"
   ]
  },
  {
   "cell_type": "code",
   "execution_count": 36,
   "id": "e2acc793",
   "metadata": {},
   "outputs": [
    {
     "data": {
      "image/png": "[encoded data removed]",
      "text/plain": [
       "<Figure size 1152x864 with 1 Axes>"
      ]
     },
     "metadata": {},
     "output_type": "display_data"
    }
   ],
   "source": [
    "# Run the model against the test data presented through a plot\n",
    "fig, pX = plt.subplots()\n",
    "\n",
    "pX.scatter(Y_test, Y_pred_gbr, edgecolors = (0, 0, 0))\n",
    "pX.plot([Y_test.min(), Y_test.max()], [Y_test.min(), Y_test.max()], 'm--', lw = 3)\n",
    "pX.set_xlabel('Actual solar irradiation')\n",
    "pX.set_ylabel('Predicted solar Verified Radiation (x-axis) vs Predicted Solar Irradiation(y-axis)')\n",
    "plt.show()"
   ]
  },
  {
   "cell_type": "code",
   "execution_count": 37,
   "id": "5a3efa94",
   "metadata": {},
   "outputs": [
    {
     "name": "stderr",
     "output_type": "stream",
     "text": [
      "/home/mansoor/Projects/MLOps/venv-mlops/lib/python3.6/site-packages/seaborn/_decorators.py:43: FutureWarning: Pass the following variables as keyword args: x, y. From version 0.12, the only valid positional argument will be `data`, and passing other arguments without an explicit keyword will result in an error or misinterpretation.\n",
      "  FutureWarning\n"
     ]
    },
    {
     "data": {
      "image/png": "[encoded data removed]",
      "text/plain": [
       "<Figure size 432x432 with 3 Axes>"
      ]
     },
     "metadata": {},
     "output_type": "display_data"
    }
   ],
   "source": [
    "sns.jointplot(Y_test, Y_pred_gbr, kind = 'reg')\n",
    "plt.show()"
   ]
  },
  {
   "cell_type": "markdown",
   "id": "d579bb0b",
   "metadata": {},
   "source": [
    "### Model Validation on the Three Models"
   ]
  },
  {
   "cell_type": "code",
   "execution_count": 38,
   "id": "cfdc632b",
   "metadata": {},
   "outputs": [
    {
     "data": {
      "text/html": [
       "<div>\n",
       "<style scoped>\n",
       "    .dataframe tbody tr th:only-of-type {\n",
       "        vertical-align: middle;\n",
       "    }\n",
       "\n",
       "    .dataframe tbody tr th {\n",
       "        vertical-align: top;\n",
       "    }\n",
       "\n",
       "    .dataframe thead th {\n",
       "        text-align: right;\n",
       "    }\n",
       "</style>\n",
       "<table border=\"1\" class=\"dataframe\">\n",
       "  <thead>\n",
       "    <tr style=\"text-align: right;\">\n",
       "      <th></th>\n",
       "      <th>Month</th>\n",
       "      <th>Day</th>\n",
       "      <th>Temperature</th>\n",
       "      <th>Precipitation</th>\n",
       "      <th>Humidity</th>\n",
       "      <th>Pressure</th>\n",
       "      <th>WindDirection</th>\n",
       "      <th>WindSpeed</th>\n",
       "      <th>DNI</th>\n",
       "      <th>DHI</th>\n",
       "      <th>Radiation</th>\n",
       "    </tr>\n",
       "  </thead>\n",
       "  <tbody>\n",
       "    <tr>\n",
       "      <th>169</th>\n",
       "      <td>6</td>\n",
       "      <td>18</td>\n",
       "      <td>27.926667</td>\n",
       "      <td>45.893333</td>\n",
       "      <td>59.933333</td>\n",
       "      <td>980.773333</td>\n",
       "      <td>209.533333</td>\n",
       "      <td>2.666667</td>\n",
       "      <td>13.200000</td>\n",
       "      <td>249.200000</td>\n",
       "      <td>253.400000</td>\n",
       "    </tr>\n",
       "    <tr>\n",
       "      <th>827</th>\n",
       "      <td>4</td>\n",
       "      <td>6</td>\n",
       "      <td>22.276923</td>\n",
       "      <td>13.476923</td>\n",
       "      <td>33.538462</td>\n",
       "      <td>984.961538</td>\n",
       "      <td>269.230769</td>\n",
       "      <td>2.330769</td>\n",
       "      <td>672.076923</td>\n",
       "      <td>111.846154</td>\n",
       "      <td>550.846154</td>\n",
       "    </tr>\n",
       "    <tr>\n",
       "      <th>1045</th>\n",
       "      <td>11</td>\n",
       "      <td>10</td>\n",
       "      <td>20.590909</td>\n",
       "      <td>9.390909</td>\n",
       "      <td>31.272727</td>\n",
       "      <td>986.190909</td>\n",
       "      <td>224.272727</td>\n",
       "      <td>1.718182</td>\n",
       "      <td>559.272727</td>\n",
       "      <td>90.181818</td>\n",
       "      <td>367.090909</td>\n",
       "    </tr>\n",
       "    <tr>\n",
       "      <th>575</th>\n",
       "      <td>7</td>\n",
       "      <td>28</td>\n",
       "      <td>30.773333</td>\n",
       "      <td>48.653333</td>\n",
       "      <td>50.666667</td>\n",
       "      <td>981.946667</td>\n",
       "      <td>269.000000</td>\n",
       "      <td>2.373333</td>\n",
       "      <td>279.333333</td>\n",
       "      <td>193.000000</td>\n",
       "      <td>378.200000</td>\n",
       "    </tr>\n",
       "    <tr>\n",
       "      <th>82</th>\n",
       "      <td>3</td>\n",
       "      <td>23</td>\n",
       "      <td>14.746154</td>\n",
       "      <td>5.353846</td>\n",
       "      <td>33.230769</td>\n",
       "      <td>991.323077</td>\n",
       "      <td>112.923077</td>\n",
       "      <td>1.846154</td>\n",
       "      <td>739.538462</td>\n",
       "      <td>75.769231</td>\n",
       "      <td>530.076923</td>\n",
       "    </tr>\n",
       "  </tbody>\n",
       "</table>\n",
       "</div>"
      ],
      "text/plain": [
       "      Month  Day  Temperature  Precipitation   Humidity    Pressure  \\\n",
       "169       6   18    27.926667      45.893333  59.933333  980.773333   \n",
       "827       4    6    22.276923      13.476923  33.538462  984.961538   \n",
       "1045     11   10    20.590909       9.390909  31.272727  986.190909   \n",
       "575       7   28    30.773333      48.653333  50.666667  981.946667   \n",
       "82        3   23    14.746154       5.353846  33.230769  991.323077   \n",
       "\n",
       "      WindDirection  WindSpeed         DNI         DHI   Radiation  \n",
       "169      209.533333   2.666667   13.200000  249.200000  253.400000  \n",
       "827      269.230769   2.330769  672.076923  111.846154  550.846154  \n",
       "1045     224.272727   1.718182  559.272727   90.181818  367.090909  \n",
       "575      269.000000   2.373333  279.333333  193.000000  378.200000  \n",
       "82       112.923077   1.846154  739.538462   75.769231  530.076923  "
      ]
     },
     "execution_count": 38,
     "metadata": {},
     "output_type": "execute_result"
    }
   ],
   "source": [
    "val_data.head()"
   ]
  },
  {
   "cell_type": "code",
   "execution_count": 39,
   "id": "d349e997",
   "metadata": {},
   "outputs": [],
   "source": [
    "X_val = val_data.drop(['Radiation'], axis=1)"
   ]
  },
  {
   "cell_type": "code",
   "execution_count": 40,
   "id": "d2f534ab",
   "metadata": {},
   "outputs": [
    {
     "data": {
      "text/html": [
       "<div>\n",
       "<style scoped>\n",
       "    .dataframe tbody tr th:only-of-type {\n",
       "        vertical-align: middle;\n",
       "    }\n",
       "\n",
       "    .dataframe tbody tr th {\n",
       "        vertical-align: top;\n",
       "    }\n",
       "\n",
       "    .dataframe thead th {\n",
       "        text-align: right;\n",
       "    }\n",
       "</style>\n",
       "<table border=\"1\" class=\"dataframe\">\n",
       "  <thead>\n",
       "    <tr style=\"text-align: right;\">\n",
       "      <th></th>\n",
       "      <th>Month</th>\n",
       "      <th>Day</th>\n",
       "      <th>Temperature</th>\n",
       "      <th>Precipitation</th>\n",
       "      <th>Humidity</th>\n",
       "      <th>Pressure</th>\n",
       "      <th>WindDirection</th>\n",
       "      <th>WindSpeed</th>\n",
       "      <th>DNI</th>\n",
       "      <th>DHI</th>\n",
       "    </tr>\n",
       "  </thead>\n",
       "  <tbody>\n",
       "    <tr>\n",
       "      <th>169</th>\n",
       "      <td>6</td>\n",
       "      <td>18</td>\n",
       "      <td>27.926667</td>\n",
       "      <td>45.893333</td>\n",
       "      <td>59.933333</td>\n",
       "      <td>980.773333</td>\n",
       "      <td>209.533333</td>\n",
       "      <td>2.666667</td>\n",
       "      <td>13.200000</td>\n",
       "      <td>249.200000</td>\n",
       "    </tr>\n",
       "    <tr>\n",
       "      <th>827</th>\n",
       "      <td>4</td>\n",
       "      <td>6</td>\n",
       "      <td>22.276923</td>\n",
       "      <td>13.476923</td>\n",
       "      <td>33.538462</td>\n",
       "      <td>984.961538</td>\n",
       "      <td>269.230769</td>\n",
       "      <td>2.330769</td>\n",
       "      <td>672.076923</td>\n",
       "      <td>111.846154</td>\n",
       "    </tr>\n",
       "    <tr>\n",
       "      <th>1045</th>\n",
       "      <td>11</td>\n",
       "      <td>10</td>\n",
       "      <td>20.590909</td>\n",
       "      <td>9.390909</td>\n",
       "      <td>31.272727</td>\n",
       "      <td>986.190909</td>\n",
       "      <td>224.272727</td>\n",
       "      <td>1.718182</td>\n",
       "      <td>559.272727</td>\n",
       "      <td>90.181818</td>\n",
       "    </tr>\n",
       "    <tr>\n",
       "      <th>575</th>\n",
       "      <td>7</td>\n",
       "      <td>28</td>\n",
       "      <td>30.773333</td>\n",
       "      <td>48.653333</td>\n",
       "      <td>50.666667</td>\n",
       "      <td>981.946667</td>\n",
       "      <td>269.000000</td>\n",
       "      <td>2.373333</td>\n",
       "      <td>279.333333</td>\n",
       "      <td>193.000000</td>\n",
       "    </tr>\n",
       "    <tr>\n",
       "      <th>82</th>\n",
       "      <td>3</td>\n",
       "      <td>23</td>\n",
       "      <td>14.746154</td>\n",
       "      <td>5.353846</td>\n",
       "      <td>33.230769</td>\n",
       "      <td>991.323077</td>\n",
       "      <td>112.923077</td>\n",
       "      <td>1.846154</td>\n",
       "      <td>739.538462</td>\n",
       "      <td>75.769231</td>\n",
       "    </tr>\n",
       "  </tbody>\n",
       "</table>\n",
       "</div>"
      ],
      "text/plain": [
       "      Month  Day  Temperature  Precipitation   Humidity    Pressure  \\\n",
       "169       6   18    27.926667      45.893333  59.933333  980.773333   \n",
       "827       4    6    22.276923      13.476923  33.538462  984.961538   \n",
       "1045     11   10    20.590909       9.390909  31.272727  986.190909   \n",
       "575       7   28    30.773333      48.653333  50.666667  981.946667   \n",
       "82        3   23    14.746154       5.353846  33.230769  991.323077   \n",
       "\n",
       "      WindDirection  WindSpeed         DNI         DHI  \n",
       "169      209.533333   2.666667   13.200000  249.200000  \n",
       "827      269.230769   2.330769  672.076923  111.846154  \n",
       "1045     224.272727   1.718182  559.272727   90.181818  \n",
       "575      269.000000   2.373333  279.333333  193.000000  \n",
       "82       112.923077   1.846154  739.538462   75.769231  "
      ]
     },
     "execution_count": 40,
     "metadata": {},
     "output_type": "execute_result"
    }
   ],
   "source": [
    "X_val.head()"
   ]
  },
  {
   "cell_type": "code",
   "execution_count": 41,
   "id": "0efca241",
   "metadata": {},
   "outputs": [],
   "source": [
    "Y_val = val_data['Radiation']"
   ]
  },
  {
   "cell_type": "code",
   "execution_count": 42,
   "id": "f33c81e4",
   "metadata": {},
   "outputs": [],
   "source": [
    "# validate models\n",
    "y_val_lr = pipeline_lr.predict(X_val)\n",
    "y_val_rfr = pipeline_rfr.predict(X_val)\n",
    "y_val_gbr = pipeline_gbr.predict(X_val)"
   ]
  },
  {
   "cell_type": "code",
   "execution_count": 43,
   "id": "21fa87fb",
   "metadata": {},
   "outputs": [
    {
     "name": "stdout",
     "output_type": "stream",
     "text": [
      "r2_score:  0.9435609001082077\n",
      "Linear Regression - Root Mean Squared Error: 5.73\n",
      "Linear Regression - Root Mean Absolute Error: 5.73\n"
     ]
    }
   ],
   "source": [
    "# Evaluating algorithm performance for linear regression\n",
    "\n",
    "\n",
    "mse_lr_val = mean_squared_error(Y_val, y_val_lr, squared = False)\n",
    "mae_lr_val = mean_absolute_error(Y_val, y_val_lr)\n",
    "\n",
    "print('r2_score: ', r2_score(Y_val, y_val_lr))\n",
    "print('Linear Regression - Root Mean Squared Error: %.2f' % np.sqrt(mse_lr_val))\n",
    "print('Linear Regression - Root Mean Absolute Error: %.2f' % np.sqrt(mse_lr_val))"
   ]
  },
  {
   "cell_type": "code",
   "execution_count": 44,
   "id": "26c542a2",
   "metadata": {},
   "outputs": [
    {
     "name": "stdout",
     "output_type": "stream",
     "text": [
      "r2_score:  0.9899014749432252\n",
      "Random Forest - Root Mean Squared Error: 3.72\n",
      "Random Forest - Root Mean Absolute Error: 3.72\n"
     ]
    }
   ],
   "source": [
    "# Evaluating algorithm performance for random forest regression\n",
    "\n",
    "mse_rf_val = mean_squared_error(Y_val, y_val_rfr, squared = False)\n",
    "mae_rf_val = mean_absolute_error(Y_val, y_val_rfr)\n",
    "\n",
    "\n",
    "print('r2_score: ', r2_score(Y_val, y_val_rfr))\n",
    "print('Random Forest - Root Mean Squared Error: %.2f' % np.sqrt(mse_rf_val))\n",
    "print('Random Forest - Root Mean Absolute Error: %.2f' % np.sqrt(mse_rf_val))"
   ]
  },
  {
   "cell_type": "code",
   "execution_count": 45,
   "id": "59337ecb",
   "metadata": {},
   "outputs": [
    {
     "name": "stdout",
     "output_type": "stream",
     "text": [
      "r2_score:  0.9866944462103097\n",
      "Gradient Boost - Root Mean Squared Error: 3.99\n",
      "Gradient Boost - Root Mean Absolute Error: 3.50\n"
     ]
    }
   ],
   "source": [
    "# Evaluating algorithm performance for gradient boost regression\n",
    "\n",
    "mse_gbr_val = mean_squared_error(Y_val, y_val_gbr, squared = False)\n",
    "mae_gbr_val = mean_absolute_error(Y_val, y_val_gbr)\n",
    "\n",
    "print('r2_score: ', r2_score(Y_val, y_val_gbr))\n",
    "print('Gradient Boost - Root Mean Squared Error: %.2f' % np.sqrt(mse_gbr_val))\n",
    "print('Gradient Boost - Root Mean Absolute Error: %.2f' % np.sqrt(mae_gbr_val))"
   ]
  },
  {
   "cell_type": "markdown",
   "id": "a017914d",
   "metadata": {},
   "source": [
    "### Models Logging OR Experimental Tracking"
   ]
  },
  {
   "cell_type": "code",
   "execution_count": 46,
   "id": "693ab654",
   "metadata": {},
   "outputs": [],
   "source": [
    "# import libraries\n",
    "import mlflow\n",
    "import mlflow.sklearn"
   ]
  },
  {
   "cell_type": "markdown",
   "id": "d7a63ee3",
   "metadata": {},
   "source": [
    "Terminal Commands:\n",
    "\n",
    "1.\n",
    "\n",
    "    mlflow server \\\n",
    "        --backend-store-uri sqlite:///mlflow.db \\\n",
    "        --default-artifact-root ./artifacts \\\n",
    "        --host 0.0.0.0\n",
    "\n",
    "2.\n",
    "\n",
    "    mlflow ui"
   ]
  },
  {
   "cell_type": "code",
   "execution_count": 55,
   "id": "f29207a3",
   "metadata": {},
   "outputs": [],
   "source": [
    "# model metrics for linear regression\n",
    "rmse_lr_pred = np.sqrt(mean_squared_error(Y_test, Y_pred_lr, squared = False))\n",
    "rmae_lr_pred = np.sqrt(mean_absolute_error(Y_test, Y_pred_lr))\n",
    "R2_score_lr = r2_score(Y_test, Y_pred_lr)\n",
    "\n",
    "# model metrics for random forest\n",
    "rmse_rfr_pred = np.sqrt(mean_squared_error(Y_test, Y_pred_rfr, squared = False))\n",
    "rmae_rfr_pred = np.sqrt(mean_absolute_error(Y_test, Y_pred_rfr))\n",
    "R2_score_rfr = r2_score(Y_test, Y_pred_rfr)\n",
    "\n",
    "# model metrics for gradient boost\n",
    "rmse_gbr_pred = np.sqrt(mean_squared_error(Y_test, Y_pred_gbr, squared = False))\n",
    "rmae_gbr_pred = np.sqrt(mean_absolute_error(Y_test, Y_pred_gbr))\n",
    "R2_score_gbr = r2_score(Y_test, Y_pred_gbr)"
   ]
  },
  {
   "cell_type": "markdown",
   "id": "863fee37",
   "metadata": {},
   "source": [
    "#### Manual Logging"
   ]
  },
  {
   "cell_type": "code",
   "execution_count": 56,
   "id": "d7a392b3",
   "metadata": {},
   "outputs": [],
   "source": [
    "# set the tracking uri\n",
    "mlflow.set_tracking_uri(\"http://127.0.0.1:5000/\")\n",
    "experiment = mlflow.get_experiment('0')"
   ]
  },
  {
   "cell_type": "code",
   "execution_count": 57,
   "id": "b295d2cd",
   "metadata": {},
   "outputs": [
    {
     "name": "stdout",
     "output_type": "stream",
     "text": [
      "Name of experiment: Default\n",
      "Location of Artifact: ./artifacts/0\n",
      "Life cycle phase: active\n",
      "Experiment_ID: 0\n"
     ]
    }
   ],
   "source": [
    "print(\"Name of experiment: {}\".format(experiment.name))\n",
    "print(\"Location of Artifact: {}\".format(experiment.artifact_location))\n",
    "print(\"Life cycle phase: {}\".format(experiment.lifecycle_stage))\n",
    "print(\"Experiment_ID: {}\".format(experiment.experiment_id))"
   ]
  },
  {
   "cell_type": "code",
   "execution_count": 58,
   "id": "8c57d260",
   "metadata": {},
   "outputs": [],
   "source": [
    "# start experiment tracking\n",
    "run = mlflow.start_run(run_name = 'Solar Radiation Prediction', nested=True)\n",
    "run_id = run.info.run_id"
   ]
  },
  {
   "cell_type": "code",
   "execution_count": 59,
   "id": "d6c92720",
   "metadata": {},
   "outputs": [],
   "source": [
    "# Log mlflow attributes for mlflow UI\n",
    "\n",
    "# log metrics for linear regression\n",
    "mlflow.log_metric(\"rmse_lr\", rmse_lr_pred)\n",
    "mlflow.log_metric(\"rmae_lr\", rmae_lr_pred)\n",
    "mlflow.log_metric(\"r2_score_lr\", R2_score_lr)\n",
    "\n",
    "# log metrics for random forest\n",
    "mlflow.log_metric(\"rmse_rfr\", rmse_rfr_pred)\n",
    "mlflow.log_metric(\"rmae_rfr\", rmae_rfr_pred)\n",
    "mlflow.log_metric(\"r2_score_rfr\", R2_score_rfr)\n",
    "\n",
    "# log metrics for gradientboost\n",
    "mlflow.log_metric(\"rmse_gbr\", rmse_gbr_pred)\n",
    "mlflow.log_metric(\"rmae_gbr\", rmae_gbr_pred)\n",
    "mlflow.log_metric(\"r2_score_gbr\", R2_score_gbr)"
   ]
  },
  {
   "cell_type": "code",
   "execution_count": 60,
   "id": "069a6d0b",
   "metadata": {},
   "outputs": [
    {
     "name": "stderr",
     "output_type": "stream",
     "text": [
      "Successfully registered model 'linear-regression-model'.\n",
      "2022/01/07 17:59:57 INFO mlflow.tracking._model_registry.client: Waiting up to 300 seconds for model version to finish creation.                     Model name: linear-regression-model, version 1\n",
      "Created version '1' of model 'linear-regression-model'.\n",
      "Successfully registered model 'sklearn-random-forest-model'.\n",
      "2022/01/07 17:59:59 INFO mlflow.tracking._model_registry.client: Waiting up to 300 seconds for model version to finish creation.                     Model name: sklearn-random-forest-model, version 1\n",
      "Created version '1' of model 'sklearn-random-forest-model'.\n",
      "Successfully registered model 'sklearn-gradientboost-model'.\n",
      "2022/01/07 18:00:00 INFO mlflow.tracking._model_registry.client: Waiting up to 300 seconds for model version to finish creation.                     Model name: sklearn-gradientboost-model, version 1\n",
      "Created version '1' of model 'sklearn-gradientboost-model'.\n"
     ]
    }
   ],
   "source": [
    "# log models experiments\n",
    "artifact_path = \"default\"\n",
    "mlflow.sklearn.log_model(pipeline_lr, artifact_path = artifact_path, registered_model_name = \"linear-regression-model\")\n",
    "mlflow.sklearn.log_model(pipeline_rfr, artifact_path = artifact_path, registered_model_name = \"sklearn-random-forest-model\")\n",
    "mlflow.sklearn.log_model(pipeline_gbr, artifact_path = artifact_path, registered_model_name = \"sklearn-gradientboost-model\")\n"
   ]
  },
  {
   "cell_type": "code",
   "execution_count": null,
   "id": "d27110da",
   "metadata": {},
   "outputs": [],
   "source": [
    "### I didn't save the below figures !\n",
    "\n",
    "# Log artifacts (output files)\n",
    "# mlflow.log_artifact(\"lr_line_of_fit.jpg\", artifact_path = 'features')\n",
    "\n",
    "# Log Features\n",
    "# mlflow.log_artifact('train.csv', artifact_path = 'features')"
   ]
  },
  {
   "cell_type": "markdown",
   "id": "5d287e1e",
   "metadata": {},
   "source": [
    "#### Auto Logging"
   ]
  },
  {
   "cell_type": "code",
   "execution_count": 61,
   "id": "01c37671",
   "metadata": {},
   "outputs": [],
   "source": [
    "mlflow.sklearn.autolog(log_models = True)"
   ]
  },
  {
   "cell_type": "code",
   "execution_count": 62,
   "id": "3549824c",
   "metadata": {},
   "outputs": [
    {
     "name": "stderr",
     "output_type": "stream",
     "text": [
      "2022/01/07 18:02:09 WARNING mlflow.utils.autologging_utils: MLflow autologging encountered a warning: \"/home/mansoor/Projects/MLOps/venv-mlops/lib/python3.6/site-packages/mlflow/models/signature.py:129: UserWarning: Hint: Inferred schema contains integer column(s). Integer columns in Python cannot represent missing values. If your input data contains missing values at inference time, it will be encoded as floats and will cause a schema enforcement error. The best way to avoid this problem is to infer the model schema based on a realistic data sample (training dataset) that includes missing values. Alternatively, you can declare integer columns as doubles (float64) whenever these columns may have missing values. See `Handling Integers With Missing Values <https://www.mlflow.org/docs/latest/models.html#handling-integers-with-missing-values>`_ for more details.\"\n",
      "2022/01/07 18:02:11 WARNING mlflow.utils.autologging_utils: MLflow autologging encountered a warning: \"/home/mansoor/Projects/MLOps/venv-mlops/lib/python3.6/site-packages/mlflow/models/signature.py:129: UserWarning: Hint: Inferred schema contains integer column(s). Integer columns in Python cannot represent missing values. If your input data contains missing values at inference time, it will be encoded as floats and will cause a schema enforcement error. The best way to avoid this problem is to infer the model schema based on a realistic data sample (training dataset) that includes missing values. Alternatively, you can declare integer columns as doubles (float64) whenever these columns may have missing values. See `Handling Integers With Missing Values <https://www.mlflow.org/docs/latest/models.html#handling-integers-with-missing-values>`_ for more details.\"\n",
      "2022/01/07 18:02:13 WARNING mlflow.utils.autologging_utils: Encountered unexpected error during sklearn autologging: The following failures occurred while performing one or more logging operations: [MlflowException('Failed to perform one or more operations on the run with ID 94ccc6504611407dafbb1600f3834c4b. Failed operations: [RestException(\"INVALID_PARAMETER_VALUE: Changing param values is not allowed. Param with key=\\'steps\\' was already logged with value=\\'[(\\'scaler\\', StandardScaler()), (\\'lr\\', LinearRegression())]\\' for run ID=\\'94ccc6504611407dafbb1600f3834c4b\\'. Attempted logging new value \\'[(\\'scaler\\', StandardScaler()), (\\'rfr\\', RandomForestRegressor())]\\'.\",)]',)]\n",
      "2022/01/07 18:02:14 WARNING mlflow.utils.autologging_utils: MLflow autologging encountered a warning: \"/home/mansoor/Projects/MLOps/venv-mlops/lib/python3.6/site-packages/mlflow/models/signature.py:129: UserWarning: Hint: Inferred schema contains integer column(s). Integer columns in Python cannot represent missing values. If your input data contains missing values at inference time, it will be encoded as floats and will cause a schema enforcement error. The best way to avoid this problem is to infer the model schema based on a realistic data sample (training dataset) that includes missing values. Alternatively, you can declare integer columns as doubles (float64) whenever these columns may have missing values. See `Handling Integers With Missing Values <https://www.mlflow.org/docs/latest/models.html#handling-integers-with-missing-values>`_ for more details.\"\n",
      "2022/01/07 18:02:15 WARNING mlflow.utils.autologging_utils: Encountered unexpected error during sklearn autologging: The following failures occurred while performing one or more logging operations: [MlflowException('Failed to perform one or more operations on the run with ID 94ccc6504611407dafbb1600f3834c4b. Failed operations: [RestException(\"INVALID_PARAMETER_VALUE: Changing param values is not allowed. Param with key=\\'steps\\' was already logged with value=\\'[(\\'scaler\\', StandardScaler()), (\\'lr\\', LinearRegression())]\\' for run ID=\\'94ccc6504611407dafbb1600f3834c4b\\'. Attempted logging new value \\'[(\\'scaler\\', StandardScaler()), (\\'gbr\\', GradientBoostingRegressor())]\\'.\",)]',)]\n"
     ]
    }
   ],
   "source": [
    "with mlflow.start_run(experiment_id = experiment.experiment_id, run_name = 'auto_lr_model', nested=True) as run:\n",
    "    pipeline_lr.fit(X_train, Y_train)\n",
    "    y_pred_lr = pipeline_lr.predict(X_test)\n",
    "    \n",
    "    pipeline_rfr.fit(X_train, Y_train)\n",
    "    y_pred_rfr = pipeline_rfr.predict(X_test)\n",
    "    \n",
    "    pipeline_gbr.fit(X_train, Y_train)\n",
    "    y_pred_gbr = pipeline_gbr.predict(X_test)"
   ]
  },
  {
   "cell_type": "code",
   "execution_count": 63,
   "id": "5070a4d4",
   "metadata": {},
   "outputs": [
    {
     "data": {
      "text/plain": [
       "'0'"
      ]
     },
     "execution_count": 63,
     "metadata": {},
     "output_type": "execute_result"
    }
   ],
   "source": [
    "experiment.experiment_id"
   ]
  },
  {
   "cell_type": "markdown",
   "id": "6c1a43a5",
   "metadata": {},
   "source": [
    "### Export Models"
   ]
  },
  {
   "cell_type": "code",
   "execution_count": 64,
   "id": "1e541966",
   "metadata": {},
   "outputs": [
    {
     "name": "stdout",
     "output_type": "stream",
     "text": [
      "0.24.2\n"
     ]
    }
   ],
   "source": [
    "# check sklearn version\n",
    "from sklearn import __version__\n",
    "\n",
    "print(__version__)"
   ]
  },
  {
   "cell_type": "code",
   "execution_count": 73,
   "id": "740a34fb",
   "metadata": {},
   "outputs": [
    {
     "data": {
      "text/plain": [
       "['/home/mansoor/Projects/MLOps/Assign 4: Solcast Project/models/model_gbr.pkl']"
      ]
     },
     "execution_count": 73,
     "metadata": {},
     "output_type": "execute_result"
    }
   ],
   "source": [
    "# loading libraries\n",
    "import joblib\n",
    "\n",
    "# Save Models to file in the model directory\n",
    "# save linear regression model\n",
    "joblib_lr = \"/home/mansoor/Projects/MLOps/Assign 4: Solcast Project/models/model_lr.pkl\"  \n",
    "joblib.dump(pipeline_lr, joblib_lr)\n",
    "# save random forest model\n",
    "joblib_rfr = \"/home/mansoor/Projects/MLOps/Assign 4: Solcast Project/models/model_rfr.pkl\" \n",
    "joblib.dump(pipeline_lr, joblib_rfr)\n",
    "# save gradientboost model\n",
    "joblib_gbr = \"/home/mansoor/Projects/MLOps/Assign 4: Solcast Project/models/model_gbr.pkl\"  \n",
    "joblib.dump(pipeline_lr, joblib_gbr)\n"
   ]
  },
  {
   "cell_type": "code",
   "execution_count": null,
   "id": "bb7d066e",
   "metadata": {},
   "outputs": [],
   "source": []
  }
 ],
 "metadata": {
  "kernelspec": {
   "display_name": "Python 3",
   "language": "python",
   "name": "python3"
  },
  "language_info": {
   "codemirror_mode": {
    "name": "ipython",
    "version": 3
   },
   "file_extension": ".py",
   "mimetype": "text/x-python",
   "name": "python",
   "nbconvert_exporter": "python",
   "pygments_lexer": "ipython3",
   "version": "3.6.9"
  },
  "toc": {
   "base_numbering": 1,
   "nav_menu": {},
   "number_sections": true,
   "sideBar": true,
   "skip_h1_title": false,
   "title_cell": "Table of Contents",
   "title_sidebar": "Contents",
   "toc_cell": false,
   "toc_position": {},
   "toc_section_display": true,
   "toc_window_display": false
  }
 },
 "nbformat": 4,
 "nbformat_minor": 5
}
