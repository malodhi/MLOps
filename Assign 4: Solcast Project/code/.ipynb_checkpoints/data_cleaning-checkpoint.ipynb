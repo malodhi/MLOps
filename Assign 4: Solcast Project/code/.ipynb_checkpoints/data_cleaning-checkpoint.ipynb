{
 "cells": [
  {
   "cell_type": "code",
   "execution_count": 1,
   "id": "d7520d23",
   "metadata": {},
   "outputs": [],
   "source": [
    "import pandas as pd"
   ]
  },
  {
   "cell_type": "markdown",
   "id": "016fd563",
   "metadata": {},
   "source": [
    "#### Step : Read data file into Dataframe"
   ]
  },
  {
   "cell_type": "code",
   "execution_count": 2,
   "id": "e738712e",
   "metadata": {},
   "outputs": [],
   "source": [
    "data_file = '../data/33.778305_-84.399166_Solcast_PT60M.csv'"
   ]
  },
  {
   "cell_type": "code",
   "execution_count": 3,
   "id": "ffe1eb5a",
   "metadata": {},
   "outputs": [],
   "source": [
    "data_init = pd.read_csv(data_file)"
   ]
  },
  {
   "cell_type": "code",
   "execution_count": 4,
   "id": "5ff77db3",
   "metadata": {},
   "outputs": [
    {
     "name": "stdout",
     "output_type": "stream",
     "text": [
      "Index(['PeriodEnd', 'PeriodStart', 'Period', 'AirTemp', 'CloudOpacity', 'Dhi',\n",
      "       'Dni', 'Ghi', 'PrecipitableWater', 'RelativeHumidity', 'SnowWater',\n",
      "       'SurfacePressure', 'WindDirection10m', 'WindSpeed10m'],\n",
      "      dtype='object')\n"
     ]
    }
   ],
   "source": [
    "print(data_init.columns)"
   ]
  },
  {
   "cell_type": "code",
   "execution_count": 5,
   "id": "2e4a6963",
   "metadata": {},
   "outputs": [
    {
     "data": {
      "text/plain": [
       "14"
      ]
     },
     "execution_count": 5,
     "metadata": {},
     "output_type": "execute_result"
    }
   ],
   "source": [
    "len(data_init.columns)"
   ]
  },
  {
   "cell_type": "markdown",
   "id": "40a00424",
   "metadata": {},
   "source": [
    "#### Step : Select Features"
   ]
  },
  {
   "cell_type": "code",
   "execution_count": 6,
   "id": "bb553525",
   "metadata": {},
   "outputs": [],
   "source": [
    "feature_columns = ['PeriodEnd', 'PeriodStart', 'AirTemp', 'Dhi', 'Dni', 'Ghi', 'PrecipitableWater', \n",
    "                   'RelativeHumidity',  'SurfacePressure', 'WindDirection10m', 'WindSpeed10m']"
   ]
  },
  {
   "cell_type": "code",
   "execution_count": 7,
   "id": "833e3153",
   "metadata": {},
   "outputs": [
    {
     "data": {
      "text/plain": [
       "11"
      ]
     },
     "execution_count": 7,
     "metadata": {},
     "output_type": "execute_result"
    }
   ],
   "source": [
    "len(feature_columns)"
   ]
  },
  {
   "cell_type": "code",
   "execution_count": 8,
   "id": "f38c5eeb",
   "metadata": {},
   "outputs": [],
   "source": [
    "data_init = data_init[feature_columns]"
   ]
  },
  {
   "cell_type": "code",
   "execution_count": 9,
   "id": "dc1c09d1",
   "metadata": {},
   "outputs": [
    {
     "data": {
      "text/plain": [
       "11"
      ]
     },
     "execution_count": 9,
     "metadata": {},
     "output_type": "execute_result"
    }
   ],
   "source": [
    "len(data_init.columns)"
   ]
  },
  {
   "cell_type": "markdown",
   "id": "06bdceb5",
   "metadata": {},
   "source": [
    "#### Step : Rename Features"
   ]
  },
  {
   "cell_type": "code",
   "execution_count": 10,
   "id": "9266a7e6",
   "metadata": {},
   "outputs": [],
   "source": [
    "feature_maps = dict(PeriodEnd = 'PeriodEnd', \n",
    "                    PeriodStart = 'PeriodStart', \n",
    "                    AirTemp = 'Temperature', \n",
    "                    Dhi = 'DHI',\n",
    "                    Dni = 'DNI', \n",
    "                    Ghi = 'Radiation',\n",
    "                    PrecipitableWater = 'Precipitation', \n",
    "                    RelativeHumidity = 'Humidity',\n",
    "                    SurfacePressure = 'Pressure', \n",
    "                    WindDirection10m = 'WindDirection', \n",
    "                    WindSpeed10m = 'WindSpeed')"
   ]
  },
  {
   "cell_type": "code",
   "execution_count": 11,
   "id": "082bd3f2",
   "metadata": {},
   "outputs": [],
   "source": [
    "data_init.rename(columns = feature_maps, inplace=True)"
   ]
  },
  {
   "cell_type": "code",
   "execution_count": 12,
   "id": "203e1a64",
   "metadata": {},
   "outputs": [
    {
     "data": {
      "text/plain": [
       "Index(['PeriodEnd', 'PeriodStart', 'Temperature', 'DHI', 'DNI', 'Radiation',\n",
       "       'Precipitation', 'Humidity', 'Pressure', 'WindDirection', 'WindSpeed'],\n",
       "      dtype='object')"
      ]
     },
     "execution_count": 12,
     "metadata": {},
     "output_type": "execute_result"
    }
   ],
   "source": [
    "data_init.columns"
   ]
  },
  {
   "cell_type": "code",
   "execution_count": 13,
   "id": "3544ab25",
   "metadata": {},
   "outputs": [
    {
     "name": "stdout",
     "output_type": "stream",
     "text": [
      "<class 'pandas.core.frame.DataFrame'>\n",
      "RangeIndex: 26205 entries, 0 to 26204\n",
      "Data columns (total 11 columns):\n",
      " #   Column         Non-Null Count  Dtype  \n",
      "---  ------         --------------  -----  \n",
      " 0   PeriodEnd      26205 non-null  object \n",
      " 1   PeriodStart    26205 non-null  object \n",
      " 2   Temperature    26205 non-null  float64\n",
      " 3   DHI            26205 non-null  int64  \n",
      " 4   DNI            26205 non-null  int64  \n",
      " 5   Radiation      26205 non-null  int64  \n",
      " 6   Precipitation  26205 non-null  float64\n",
      " 7   Humidity       26205 non-null  float64\n",
      " 8   Pressure       26205 non-null  float64\n",
      " 9   WindDirection  26205 non-null  int64  \n",
      " 10  WindSpeed      26205 non-null  float64\n",
      "dtypes: float64(5), int64(4), object(2)\n",
      "memory usage: 2.2+ MB\n"
     ]
    }
   ],
   "source": [
    "data_init.info()"
   ]
  },
  {
   "cell_type": "markdown",
   "id": "f2804ff1",
   "metadata": {},
   "source": [
    "#### Step : Convert Features Data Type"
   ]
  },
  {
   "cell_type": "code",
   "execution_count": 14,
   "id": "15ae8b61",
   "metadata": {},
   "outputs": [
    {
     "name": "stderr",
     "output_type": "stream",
     "text": [
      "/home/mansoor/Projects/MLOps/venv-mlops/lib/python3.6/site-packages/pandas/core/arrays/datetimes.py:1092: UserWarning: Converting to PeriodArray/Index representation will drop timezone information.\n",
      "  UserWarning,\n"
     ]
    }
   ],
   "source": [
    "data_init['PeriodEnd']     = pd.to_datetime(data_init['PeriodEnd']).dt.to_period('T').dt.to_timestamp()\n",
    "data_init['PeriodStart']   = pd.to_datetime(data_init['PeriodStart']).dt.to_period('T').dt.to_timestamp()\n",
    "data_init['PeriodEnd']     = pd.to_datetime(data_init['PeriodEnd']).dt.to_period('T').dt.to_timestamp()\n",
    "data_init['Radiation']     = data_init['Radiation'].astype(float)\n",
    "data_init['Humidity']      = data_init['Humidity'].astype(int) # or int\n",
    "data_init['Pressure']      = data_init['Pressure'].astype(float)\n",
    "data_init['WindDirection'] = data_init['WindDirection'].astype(float)\n",
    "data_init['WindSpeed']     = data_init['WindSpeed'].astype(float)"
   ]
  },
  {
   "cell_type": "code",
   "execution_count": 15,
   "id": "70b399a0",
   "metadata": {},
   "outputs": [
    {
     "name": "stdout",
     "output_type": "stream",
     "text": [
      "<class 'pandas.core.frame.DataFrame'>\n",
      "RangeIndex: 26205 entries, 0 to 26204\n",
      "Data columns (total 11 columns):\n",
      " #   Column         Non-Null Count  Dtype         \n",
      "---  ------         --------------  -----         \n",
      " 0   PeriodEnd      26205 non-null  datetime64[ns]\n",
      " 1   PeriodStart    26205 non-null  datetime64[ns]\n",
      " 2   Temperature    26205 non-null  float64       \n",
      " 3   DHI            26205 non-null  int64         \n",
      " 4   DNI            26205 non-null  int64         \n",
      " 5   Radiation      26205 non-null  float64       \n",
      " 6   Precipitation  26205 non-null  float64       \n",
      " 7   Humidity       26205 non-null  int64         \n",
      " 8   Pressure       26205 non-null  float64       \n",
      " 9   WindDirection  26205 non-null  float64       \n",
      " 10  WindSpeed      26205 non-null  float64       \n",
      "dtypes: datetime64[ns](2), float64(6), int64(3)\n",
      "memory usage: 2.2 MB\n"
     ]
    }
   ],
   "source": [
    "data_init.info()"
   ]
  },
  {
   "cell_type": "markdown",
   "id": "ebf76e6e",
   "metadata": {},
   "source": [
    "#### Step :  Create  New  Features  [Year, Month, Day]  from PeriodStart and PeriodEnd"
   ]
  },
  {
   "cell_type": "code",
   "execution_count": 16,
   "id": "cde101ce",
   "metadata": {},
   "outputs": [],
   "source": [
    "data_init['YearPS'] = pd.to_datetime(data_init.PeriodStart).dt.year \n",
    "data_init['YearPE'] = pd.to_datetime(data_init.PeriodEnd).dt.year \n",
    "\n",
    "data_init['MonthPS'] = pd.to_datetime(data_init.PeriodStart).dt.month \n",
    "data_init['MonthPE'] = pd.to_datetime(data_init.PeriodEnd).dt.month\n",
    "\n",
    "data_init['DayPS'] = pd.to_datetime(data_init.PeriodStart).dt.day \n",
    "data_init['DayPE'] = pd.to_datetime(data_init.PeriodEnd).dt.day "
   ]
  },
  {
   "cell_type": "code",
   "execution_count": 17,
   "id": "91db7eb9",
   "metadata": {},
   "outputs": [
    {
     "name": "stdout",
     "output_type": "stream",
     "text": [
      "<class 'pandas.core.frame.DataFrame'>\n",
      "RangeIndex: 26205 entries, 0 to 26204\n",
      "Data columns (total 17 columns):\n",
      " #   Column         Non-Null Count  Dtype         \n",
      "---  ------         --------------  -----         \n",
      " 0   PeriodEnd      26205 non-null  datetime64[ns]\n",
      " 1   PeriodStart    26205 non-null  datetime64[ns]\n",
      " 2   Temperature    26205 non-null  float64       \n",
      " 3   DHI            26205 non-null  int64         \n",
      " 4   DNI            26205 non-null  int64         \n",
      " 5   Radiation      26205 non-null  float64       \n",
      " 6   Precipitation  26205 non-null  float64       \n",
      " 7   Humidity       26205 non-null  int64         \n",
      " 8   Pressure       26205 non-null  float64       \n",
      " 9   WindDirection  26205 non-null  float64       \n",
      " 10  WindSpeed      26205 non-null  float64       \n",
      " 11  YearPS         26205 non-null  int64         \n",
      " 12  YearPE         26205 non-null  int64         \n",
      " 13  MonthPS        26205 non-null  int64         \n",
      " 14  MonthPE        26205 non-null  int64         \n",
      " 15  DayPS          26205 non-null  int64         \n",
      " 16  DayPE          26205 non-null  int64         \n",
      "dtypes: datetime64[ns](2), float64(6), int64(9)\n",
      "memory usage: 3.4 MB\n"
     ]
    }
   ],
   "source": [
    "data_init.info()"
   ]
  },
  {
   "cell_type": "code",
   "execution_count": 18,
   "id": "4afd27d1",
   "metadata": {},
   "outputs": [
    {
     "data": {
      "text/html": [
       "<div>\n",
       "<style scoped>\n",
       "    .dataframe tbody tr th:only-of-type {\n",
       "        vertical-align: middle;\n",
       "    }\n",
       "\n",
       "    .dataframe tbody tr th {\n",
       "        vertical-align: top;\n",
       "    }\n",
       "\n",
       "    .dataframe thead th {\n",
       "        text-align: right;\n",
       "    }\n",
       "</style>\n",
       "<table border=\"1\" class=\"dataframe\">\n",
       "  <thead>\n",
       "    <tr style=\"text-align: right;\">\n",
       "      <th></th>\n",
       "      <th>PeriodEnd</th>\n",
       "      <th>PeriodStart</th>\n",
       "      <th>Temperature</th>\n",
       "      <th>DHI</th>\n",
       "      <th>DNI</th>\n",
       "      <th>Radiation</th>\n",
       "      <th>Precipitation</th>\n",
       "      <th>Humidity</th>\n",
       "      <th>Pressure</th>\n",
       "      <th>WindDirection</th>\n",
       "      <th>WindSpeed</th>\n",
       "      <th>YearPS</th>\n",
       "      <th>YearPE</th>\n",
       "      <th>MonthPS</th>\n",
       "      <th>MonthPE</th>\n",
       "      <th>DayPS</th>\n",
       "      <th>DayPE</th>\n",
       "    </tr>\n",
       "  </thead>\n",
       "  <tbody>\n",
       "    <tr>\n",
       "      <th>0</th>\n",
       "      <td>2018-12-31 02:00:00</td>\n",
       "      <td>2018-12-31 01:00:00</td>\n",
       "      <td>12.5</td>\n",
       "      <td>0</td>\n",
       "      <td>0</td>\n",
       "      <td>0.0</td>\n",
       "      <td>36.0</td>\n",
       "      <td>96</td>\n",
       "      <td>989.1</td>\n",
       "      <td>124.0</td>\n",
       "      <td>1.7</td>\n",
       "      <td>2018</td>\n",
       "      <td>2018</td>\n",
       "      <td>12</td>\n",
       "      <td>12</td>\n",
       "      <td>31</td>\n",
       "      <td>31</td>\n",
       "    </tr>\n",
       "    <tr>\n",
       "      <th>1</th>\n",
       "      <td>2018-12-31 03:00:00</td>\n",
       "      <td>2018-12-31 02:00:00</td>\n",
       "      <td>12.3</td>\n",
       "      <td>0</td>\n",
       "      <td>0</td>\n",
       "      <td>0.0</td>\n",
       "      <td>36.4</td>\n",
       "      <td>98</td>\n",
       "      <td>989.0</td>\n",
       "      <td>125.0</td>\n",
       "      <td>2.0</td>\n",
       "      <td>2018</td>\n",
       "      <td>2018</td>\n",
       "      <td>12</td>\n",
       "      <td>12</td>\n",
       "      <td>31</td>\n",
       "      <td>31</td>\n",
       "    </tr>\n",
       "    <tr>\n",
       "      <th>2</th>\n",
       "      <td>2018-12-31 04:00:00</td>\n",
       "      <td>2018-12-31 03:00:00</td>\n",
       "      <td>12.5</td>\n",
       "      <td>0</td>\n",
       "      <td>0</td>\n",
       "      <td>0.0</td>\n",
       "      <td>36.4</td>\n",
       "      <td>99</td>\n",
       "      <td>988.8</td>\n",
       "      <td>128.0</td>\n",
       "      <td>2.3</td>\n",
       "      <td>2018</td>\n",
       "      <td>2018</td>\n",
       "      <td>12</td>\n",
       "      <td>12</td>\n",
       "      <td>31</td>\n",
       "      <td>31</td>\n",
       "    </tr>\n",
       "    <tr>\n",
       "      <th>3</th>\n",
       "      <td>2018-12-31 05:00:00</td>\n",
       "      <td>2018-12-31 04:00:00</td>\n",
       "      <td>13.0</td>\n",
       "      <td>0</td>\n",
       "      <td>0</td>\n",
       "      <td>0.0</td>\n",
       "      <td>35.9</td>\n",
       "      <td>99</td>\n",
       "      <td>988.6</td>\n",
       "      <td>134.0</td>\n",
       "      <td>2.6</td>\n",
       "      <td>2018</td>\n",
       "      <td>2018</td>\n",
       "      <td>12</td>\n",
       "      <td>12</td>\n",
       "      <td>31</td>\n",
       "      <td>31</td>\n",
       "    </tr>\n",
       "  </tbody>\n",
       "</table>\n",
       "</div>"
      ],
      "text/plain": [
       "            PeriodEnd         PeriodStart  Temperature  DHI  DNI  Radiation  \\\n",
       "0 2018-12-31 02:00:00 2018-12-31 01:00:00         12.5    0    0        0.0   \n",
       "1 2018-12-31 03:00:00 2018-12-31 02:00:00         12.3    0    0        0.0   \n",
       "2 2018-12-31 04:00:00 2018-12-31 03:00:00         12.5    0    0        0.0   \n",
       "3 2018-12-31 05:00:00 2018-12-31 04:00:00         13.0    0    0        0.0   \n",
       "\n",
       "   Precipitation  Humidity  Pressure  WindDirection  WindSpeed  YearPS  \\\n",
       "0           36.0        96     989.1          124.0        1.7    2018   \n",
       "1           36.4        98     989.0          125.0        2.0    2018   \n",
       "2           36.4        99     988.8          128.0        2.3    2018   \n",
       "3           35.9        99     988.6          134.0        2.6    2018   \n",
       "\n",
       "   YearPE  MonthPS  MonthPE  DayPS  DayPE  \n",
       "0    2018       12       12     31     31  \n",
       "1    2018       12       12     31     31  \n",
       "2    2018       12       12     31     31  \n",
       "3    2018       12       12     31     31  "
      ]
     },
     "execution_count": 18,
     "metadata": {},
     "output_type": "execute_result"
    }
   ],
   "source": [
    "data_init.head(4)"
   ]
  },
  {
   "cell_type": "markdown",
   "id": "14adfe5d",
   "metadata": {},
   "source": [
    "#### Step: Create Sunrise and Sunset Time Features. \n",
    " The feature have int values (hour). Where there is no sunset or sunrise time we set the value to 0."
   ]
  },
  {
   "cell_type": "code",
   "execution_count": 19,
   "id": "e6fef48c",
   "metadata": {
    "code_folding": []
   },
   "outputs": [],
   "source": [
    "def time_to_sunrise(row):\n",
    "    \"\"\"\n",
    "    A function for identifying time of sunrise.\n",
    "    \"\"\"\n",
    "    value = 0        \n",
    "    if row['DayPS'] == 8 and row['DayPE'] == 9 and row['Radiation'] > 0:\n",
    "        value= 9\n",
    "    elif row['DayPS'] == 7 and row['DayPE'] == 8 and row['Radiation'] > 0:\n",
    "        value= 8\n",
    "    elif row['DayPS'] == 6 and row['DayPE'] == 7 and row['Radiation'] > 0:\n",
    "        value= 7\n",
    "    elif row['DayPS'] == 5 and row['DayPE'] == 6 and row['Radiation'] > 0:\n",
    "        value= 6\n",
    "    elif row['DayPS'] == 4 and row['DayPE'] == 5 and row['Radiation'] > 0:\n",
    "        value= 5\n",
    "    elif row['DayPS'] == 3 and row['DayPE'] == 4 and row['Radiation'] > 0:\n",
    "        value= 4\n",
    "    return str(value)\n",
    "\n",
    "def time_to_sunset(row):\n",
    "    \"\"\"\n",
    "    A function for identifying time of sunset.\n",
    "    \"\"\"\n",
    "    value= 0\n",
    "    if row['DayPS'] == 15 and row['DayPE'] == 16 and row['Radiation']> 0:\n",
    "        value= 16\n",
    "    elif row['DayPS'] == 16 and row['DayPE'] == 17 and row['Radiation']> 0:\n",
    "        value= 17\n",
    "    elif row['DayPS'] == 17 and row['DayPE']== 18 and row['Radiation']> 0:\n",
    "        value= 18\n",
    "    elif row['DayPS'] == 18 and row['DayPE']== 19 and row['Radiation']> 0:\n",
    "        value= 19\n",
    "    elif row['DayPS'] == 19 and row['DayPE']== 20 and row['Radiation']> 0:\n",
    "        value= 20\n",
    "    elif row['DayPS'] == 20 and row['DayPE']== 21 and row['Radiation']> 0:\n",
    "        value= 21\n",
    "    elif row['DayPS'] == 21 and row['DayPE']== 22 and row['Radiation']> 0:\n",
    "        value= 22\n",
    "    elif row['DayPS'] == 22 and row['DayPE']== 23 and row['Radiation']> 0:\n",
    "        value= 23\n",
    "    return str(value)"
   ]
  },
  {
   "cell_type": "code",
   "execution_count": 20,
   "id": "5085b5fc",
   "metadata": {},
   "outputs": [],
   "source": [
    "#Create a new column using the function above\n",
    "data_init['Sunrise'] = data_init.apply(time_to_sunrise, axis=1)\n",
    "\n",
    "#Create a new column using the function above\n",
    "data_init['Sunset'] = data_init.apply(time_to_sunset, axis=1)"
   ]
  },
  {
   "cell_type": "code",
   "execution_count": 21,
   "id": "48ad28fc",
   "metadata": {},
   "outputs": [
    {
     "data": {
      "text/plain": [
       "(array(['0', '4', '5', '6', '7', '8', '9'], dtype=object),\n",
       " array(['0', '16', '17', '18', '19', '20', '21', '22', '23'], dtype=object))"
      ]
     },
     "execution_count": 21,
     "metadata": {},
     "output_type": "execute_result"
    }
   ],
   "source": [
    "data_init.Sunrise.unique(), data_init.Sunset.unique()"
   ]
  },
  {
   "cell_type": "code",
   "execution_count": 22,
   "id": "fe422f1e",
   "metadata": {},
   "outputs": [
    {
     "name": "stdout",
     "output_type": "stream",
     "text": [
      "<class 'pandas.core.frame.DataFrame'>\n",
      "RangeIndex: 26205 entries, 0 to 26204\n",
      "Data columns (total 19 columns):\n",
      " #   Column         Non-Null Count  Dtype         \n",
      "---  ------         --------------  -----         \n",
      " 0   PeriodEnd      26205 non-null  datetime64[ns]\n",
      " 1   PeriodStart    26205 non-null  datetime64[ns]\n",
      " 2   Temperature    26205 non-null  float64       \n",
      " 3   DHI            26205 non-null  int64         \n",
      " 4   DNI            26205 non-null  int64         \n",
      " 5   Radiation      26205 non-null  float64       \n",
      " 6   Precipitation  26205 non-null  float64       \n",
      " 7   Humidity       26205 non-null  int64         \n",
      " 8   Pressure       26205 non-null  float64       \n",
      " 9   WindDirection  26205 non-null  float64       \n",
      " 10  WindSpeed      26205 non-null  float64       \n",
      " 11  YearPS         26205 non-null  int64         \n",
      " 12  YearPE         26205 non-null  int64         \n",
      " 13  MonthPS        26205 non-null  int64         \n",
      " 14  MonthPE        26205 non-null  int64         \n",
      " 15  DayPS          26205 non-null  int64         \n",
      " 16  DayPE          26205 non-null  int64         \n",
      " 17  Sunrise        26205 non-null  object        \n",
      " 18  Sunset         26205 non-null  object        \n",
      "dtypes: datetime64[ns](2), float64(6), int64(9), object(2)\n",
      "memory usage: 3.8+ MB\n"
     ]
    }
   ],
   "source": [
    "data_init.info()"
   ]
  },
  {
   "cell_type": "markdown",
   "id": "d382d0e7",
   "metadata": {},
   "source": [
    "#### Step : Remove Night Time Data"
   ]
  },
  {
   "cell_type": "code",
   "execution_count": 23,
   "id": "1e2ba8b9",
   "metadata": {},
   "outputs": [],
   "source": [
    "data_init = data_init.loc[~((data_init['Radiation'] == 0) & (data_init['DNI'] == 0) & (data_init['DHI'] == 0)),:]"
   ]
  },
  {
   "cell_type": "code",
   "execution_count": 24,
   "id": "589a3f52",
   "metadata": {},
   "outputs": [
    {
     "name": "stdout",
     "output_type": "stream",
     "text": [
      "<class 'pandas.core.frame.DataFrame'>\n",
      "Int64Index: 14084 entries, 11 to 26204\n",
      "Data columns (total 19 columns):\n",
      " #   Column         Non-Null Count  Dtype         \n",
      "---  ------         --------------  -----         \n",
      " 0   PeriodEnd      14084 non-null  datetime64[ns]\n",
      " 1   PeriodStart    14084 non-null  datetime64[ns]\n",
      " 2   Temperature    14084 non-null  float64       \n",
      " 3   DHI            14084 non-null  int64         \n",
      " 4   DNI            14084 non-null  int64         \n",
      " 5   Radiation      14084 non-null  float64       \n",
      " 6   Precipitation  14084 non-null  float64       \n",
      " 7   Humidity       14084 non-null  int64         \n",
      " 8   Pressure       14084 non-null  float64       \n",
      " 9   WindDirection  14084 non-null  float64       \n",
      " 10  WindSpeed      14084 non-null  float64       \n",
      " 11  YearPS         14084 non-null  int64         \n",
      " 12  YearPE         14084 non-null  int64         \n",
      " 13  MonthPS        14084 non-null  int64         \n",
      " 14  MonthPE        14084 non-null  int64         \n",
      " 15  DayPS          14084 non-null  int64         \n",
      " 16  DayPE          14084 non-null  int64         \n",
      " 17  Sunrise        14084 non-null  object        \n",
      " 18  Sunset         14084 non-null  object        \n",
      "dtypes: datetime64[ns](2), float64(6), int64(9), object(2)\n",
      "memory usage: 2.1+ MB\n"
     ]
    }
   ],
   "source": [
    "data_init.info()"
   ]
  },
  {
   "cell_type": "code",
   "execution_count": 25,
   "id": "742784aa",
   "metadata": {},
   "outputs": [
    {
     "data": {
      "text/html": [
       "<div>\n",
       "<style scoped>\n",
       "    .dataframe tbody tr th:only-of-type {\n",
       "        vertical-align: middle;\n",
       "    }\n",
       "\n",
       "    .dataframe tbody tr th {\n",
       "        vertical-align: top;\n",
       "    }\n",
       "\n",
       "    .dataframe thead th {\n",
       "        text-align: right;\n",
       "    }\n",
       "</style>\n",
       "<table border=\"1\" class=\"dataframe\">\n",
       "  <thead>\n",
       "    <tr style=\"text-align: right;\">\n",
       "      <th></th>\n",
       "      <th>PeriodEnd</th>\n",
       "      <th>PeriodStart</th>\n",
       "      <th>Temperature</th>\n",
       "      <th>DHI</th>\n",
       "      <th>DNI</th>\n",
       "      <th>Radiation</th>\n",
       "      <th>Precipitation</th>\n",
       "      <th>Humidity</th>\n",
       "      <th>Pressure</th>\n",
       "      <th>WindDirection</th>\n",
       "      <th>WindSpeed</th>\n",
       "      <th>YearPS</th>\n",
       "      <th>YearPE</th>\n",
       "      <th>MonthPS</th>\n",
       "      <th>MonthPE</th>\n",
       "      <th>DayPS</th>\n",
       "      <th>DayPE</th>\n",
       "      <th>Sunrise</th>\n",
       "      <th>Sunset</th>\n",
       "    </tr>\n",
       "  </thead>\n",
       "  <tbody>\n",
       "    <tr>\n",
       "      <th>11</th>\n",
       "      <td>2018-12-31 13:00:00</td>\n",
       "      <td>2018-12-31 12:00:00</td>\n",
       "      <td>15.5</td>\n",
       "      <td>2</td>\n",
       "      <td>0</td>\n",
       "      <td>2.0</td>\n",
       "      <td>28.2</td>\n",
       "      <td>95</td>\n",
       "      <td>987.4</td>\n",
       "      <td>170.0</td>\n",
       "      <td>3.8</td>\n",
       "      <td>2018</td>\n",
       "      <td>2018</td>\n",
       "      <td>12</td>\n",
       "      <td>12</td>\n",
       "      <td>31</td>\n",
       "      <td>31</td>\n",
       "      <td>0</td>\n",
       "      <td>0</td>\n",
       "    </tr>\n",
       "    <tr>\n",
       "      <th>12</th>\n",
       "      <td>2018-12-31 14:00:00</td>\n",
       "      <td>2018-12-31 13:00:00</td>\n",
       "      <td>16.1</td>\n",
       "      <td>23</td>\n",
       "      <td>0</td>\n",
       "      <td>23.0</td>\n",
       "      <td>28.9</td>\n",
       "      <td>96</td>\n",
       "      <td>987.6</td>\n",
       "      <td>173.0</td>\n",
       "      <td>4.2</td>\n",
       "      <td>2018</td>\n",
       "      <td>2018</td>\n",
       "      <td>12</td>\n",
       "      <td>12</td>\n",
       "      <td>31</td>\n",
       "      <td>31</td>\n",
       "      <td>0</td>\n",
       "      <td>0</td>\n",
       "    </tr>\n",
       "    <tr>\n",
       "      <th>13</th>\n",
       "      <td>2018-12-31 15:00:00</td>\n",
       "      <td>2018-12-31 14:00:00</td>\n",
       "      <td>16.6</td>\n",
       "      <td>77</td>\n",
       "      <td>0</td>\n",
       "      <td>77.0</td>\n",
       "      <td>29.6</td>\n",
       "      <td>96</td>\n",
       "      <td>987.7</td>\n",
       "      <td>174.0</td>\n",
       "      <td>4.6</td>\n",
       "      <td>2018</td>\n",
       "      <td>2018</td>\n",
       "      <td>12</td>\n",
       "      <td>12</td>\n",
       "      <td>31</td>\n",
       "      <td>31</td>\n",
       "      <td>0</td>\n",
       "      <td>0</td>\n",
       "    </tr>\n",
       "    <tr>\n",
       "      <th>14</th>\n",
       "      <td>2018-12-31 16:00:00</td>\n",
       "      <td>2018-12-31 15:00:00</td>\n",
       "      <td>17.2</td>\n",
       "      <td>117</td>\n",
       "      <td>0</td>\n",
       "      <td>117.0</td>\n",
       "      <td>30.2</td>\n",
       "      <td>96</td>\n",
       "      <td>987.3</td>\n",
       "      <td>177.0</td>\n",
       "      <td>5.1</td>\n",
       "      <td>2018</td>\n",
       "      <td>2018</td>\n",
       "      <td>12</td>\n",
       "      <td>12</td>\n",
       "      <td>31</td>\n",
       "      <td>31</td>\n",
       "      <td>0</td>\n",
       "      <td>0</td>\n",
       "    </tr>\n",
       "  </tbody>\n",
       "</table>\n",
       "</div>"
      ],
      "text/plain": [
       "             PeriodEnd         PeriodStart  Temperature  DHI  DNI  Radiation  \\\n",
       "11 2018-12-31 13:00:00 2018-12-31 12:00:00         15.5    2    0        2.0   \n",
       "12 2018-12-31 14:00:00 2018-12-31 13:00:00         16.1   23    0       23.0   \n",
       "13 2018-12-31 15:00:00 2018-12-31 14:00:00         16.6   77    0       77.0   \n",
       "14 2018-12-31 16:00:00 2018-12-31 15:00:00         17.2  117    0      117.0   \n",
       "\n",
       "    Precipitation  Humidity  Pressure  WindDirection  WindSpeed  YearPS  \\\n",
       "11           28.2        95     987.4          170.0        3.8    2018   \n",
       "12           28.9        96     987.6          173.0        4.2    2018   \n",
       "13           29.6        96     987.7          174.0        4.6    2018   \n",
       "14           30.2        96     987.3          177.0        5.1    2018   \n",
       "\n",
       "    YearPE  MonthPS  MonthPE  DayPS  DayPE Sunrise Sunset  \n",
       "11    2018       12       12     31     31       0      0  \n",
       "12    2018       12       12     31     31       0      0  \n",
       "13    2018       12       12     31     31       0      0  \n",
       "14    2018       12       12     31     31       0      0  "
      ]
     },
     "execution_count": 25,
     "metadata": {},
     "output_type": "execute_result"
    }
   ],
   "source": [
    "data_init.head(4)"
   ]
  },
  {
   "cell_type": "markdown",
   "id": "cd08bea2",
   "metadata": {},
   "source": [
    "#### Step : Create Feature Data based on PeriodEnd"
   ]
  },
  {
   "cell_type": "code",
   "execution_count": 26,
   "id": "e9325a23",
   "metadata": {},
   "outputs": [],
   "source": [
    "data_init['Date'] = pd.to_datetime(data_init['PeriodEnd']).dt.date"
   ]
  },
  {
   "cell_type": "code",
   "execution_count": 27,
   "id": "6d10de57",
   "metadata": {},
   "outputs": [
    {
     "data": {
      "text/html": [
       "<div>\n",
       "<style scoped>\n",
       "    .dataframe tbody tr th:only-of-type {\n",
       "        vertical-align: middle;\n",
       "    }\n",
       "\n",
       "    .dataframe tbody tr th {\n",
       "        vertical-align: top;\n",
       "    }\n",
       "\n",
       "    .dataframe thead th {\n",
       "        text-align: right;\n",
       "    }\n",
       "</style>\n",
       "<table border=\"1\" class=\"dataframe\">\n",
       "  <thead>\n",
       "    <tr style=\"text-align: right;\">\n",
       "      <th></th>\n",
       "      <th>PeriodEnd</th>\n",
       "      <th>PeriodStart</th>\n",
       "      <th>Temperature</th>\n",
       "      <th>DHI</th>\n",
       "      <th>DNI</th>\n",
       "      <th>Radiation</th>\n",
       "      <th>Precipitation</th>\n",
       "      <th>Humidity</th>\n",
       "      <th>Pressure</th>\n",
       "      <th>WindDirection</th>\n",
       "      <th>WindSpeed</th>\n",
       "      <th>YearPS</th>\n",
       "      <th>YearPE</th>\n",
       "      <th>MonthPS</th>\n",
       "      <th>MonthPE</th>\n",
       "      <th>DayPS</th>\n",
       "      <th>DayPE</th>\n",
       "      <th>Sunrise</th>\n",
       "      <th>Sunset</th>\n",
       "      <th>Date</th>\n",
       "    </tr>\n",
       "  </thead>\n",
       "  <tbody>\n",
       "    <tr>\n",
       "      <th>11</th>\n",
       "      <td>2018-12-31 13:00:00</td>\n",
       "      <td>2018-12-31 12:00:00</td>\n",
       "      <td>15.5</td>\n",
       "      <td>2</td>\n",
       "      <td>0</td>\n",
       "      <td>2.0</td>\n",
       "      <td>28.2</td>\n",
       "      <td>95</td>\n",
       "      <td>987.4</td>\n",
       "      <td>170.0</td>\n",
       "      <td>3.8</td>\n",
       "      <td>2018</td>\n",
       "      <td>2018</td>\n",
       "      <td>12</td>\n",
       "      <td>12</td>\n",
       "      <td>31</td>\n",
       "      <td>31</td>\n",
       "      <td>0</td>\n",
       "      <td>0</td>\n",
       "      <td>2018-12-31</td>\n",
       "    </tr>\n",
       "    <tr>\n",
       "      <th>12</th>\n",
       "      <td>2018-12-31 14:00:00</td>\n",
       "      <td>2018-12-31 13:00:00</td>\n",
       "      <td>16.1</td>\n",
       "      <td>23</td>\n",
       "      <td>0</td>\n",
       "      <td>23.0</td>\n",
       "      <td>28.9</td>\n",
       "      <td>96</td>\n",
       "      <td>987.6</td>\n",
       "      <td>173.0</td>\n",
       "      <td>4.2</td>\n",
       "      <td>2018</td>\n",
       "      <td>2018</td>\n",
       "      <td>12</td>\n",
       "      <td>12</td>\n",
       "      <td>31</td>\n",
       "      <td>31</td>\n",
       "      <td>0</td>\n",
       "      <td>0</td>\n",
       "      <td>2018-12-31</td>\n",
       "    </tr>\n",
       "    <tr>\n",
       "      <th>13</th>\n",
       "      <td>2018-12-31 15:00:00</td>\n",
       "      <td>2018-12-31 14:00:00</td>\n",
       "      <td>16.6</td>\n",
       "      <td>77</td>\n",
       "      <td>0</td>\n",
       "      <td>77.0</td>\n",
       "      <td>29.6</td>\n",
       "      <td>96</td>\n",
       "      <td>987.7</td>\n",
       "      <td>174.0</td>\n",
       "      <td>4.6</td>\n",
       "      <td>2018</td>\n",
       "      <td>2018</td>\n",
       "      <td>12</td>\n",
       "      <td>12</td>\n",
       "      <td>31</td>\n",
       "      <td>31</td>\n",
       "      <td>0</td>\n",
       "      <td>0</td>\n",
       "      <td>2018-12-31</td>\n",
       "    </tr>\n",
       "  </tbody>\n",
       "</table>\n",
       "</div>"
      ],
      "text/plain": [
       "             PeriodEnd         PeriodStart  Temperature  DHI  DNI  Radiation  \\\n",
       "11 2018-12-31 13:00:00 2018-12-31 12:00:00         15.5    2    0        2.0   \n",
       "12 2018-12-31 14:00:00 2018-12-31 13:00:00         16.1   23    0       23.0   \n",
       "13 2018-12-31 15:00:00 2018-12-31 14:00:00         16.6   77    0       77.0   \n",
       "\n",
       "    Precipitation  Humidity  Pressure  WindDirection  WindSpeed  YearPS  \\\n",
       "11           28.2        95     987.4          170.0        3.8    2018   \n",
       "12           28.9        96     987.6          173.0        4.2    2018   \n",
       "13           29.6        96     987.7          174.0        4.6    2018   \n",
       "\n",
       "    YearPE  MonthPS  MonthPE  DayPS  DayPE Sunrise Sunset        Date  \n",
       "11    2018       12       12     31     31       0      0  2018-12-31  \n",
       "12    2018       12       12     31     31       0      0  2018-12-31  \n",
       "13    2018       12       12     31     31       0      0  2018-12-31  "
      ]
     },
     "execution_count": 27,
     "metadata": {},
     "output_type": "execute_result"
    }
   ],
   "source": [
    "data_init.head(3)"
   ]
  },
  {
   "cell_type": "markdown",
   "id": "9d704368",
   "metadata": {},
   "source": [
    "#### Step : Group Data with Respect to 'Date'"
   ]
  },
  {
   "cell_type": "code",
   "execution_count": 28,
   "id": "ace3d050",
   "metadata": {},
   "outputs": [],
   "source": [
    "agg_dict = {\n",
    "    'Temperature':'mean',\n",
    "    'DHI':'mean',\n",
    "    'DNI':'mean',\n",
    "    'Radiation':'mean',\n",
    "    'Precipitation':'mean',\n",
    "    'Humidity':'mean',\n",
    "    'Pressure':'mean',\n",
    "    'WindDirection':'mean',\n",
    "    'WindSpeed':'mean',\n",
    "    'Sunrise':'max',\n",
    "    'Sunset':'max',\n",
    "}"
   ]
  },
  {
   "cell_type": "code",
   "execution_count": 29,
   "id": "e8bfe9a0",
   "metadata": {},
   "outputs": [
    {
     "data": {
      "text/html": [
       "<div>\n",
       "<style scoped>\n",
       "    .dataframe tbody tr th:only-of-type {\n",
       "        vertical-align: middle;\n",
       "    }\n",
       "\n",
       "    .dataframe tbody tr th {\n",
       "        vertical-align: top;\n",
       "    }\n",
       "\n",
       "    .dataframe thead th {\n",
       "        text-align: right;\n",
       "    }\n",
       "</style>\n",
       "<table border=\"1\" class=\"dataframe\">\n",
       "  <thead>\n",
       "    <tr style=\"text-align: right;\">\n",
       "      <th></th>\n",
       "      <th>Date</th>\n",
       "      <th>Temperature</th>\n",
       "      <th>DHI</th>\n",
       "      <th>DNI</th>\n",
       "      <th>Radiation</th>\n",
       "      <th>Precipitation</th>\n",
       "      <th>Humidity</th>\n",
       "      <th>Pressure</th>\n",
       "      <th>WindDirection</th>\n",
       "      <th>WindSpeed</th>\n",
       "      <th>Sunrise</th>\n",
       "      <th>Sunset</th>\n",
       "    </tr>\n",
       "  </thead>\n",
       "  <tbody>\n",
       "    <tr>\n",
       "      <th>0</th>\n",
       "      <td>2018-12-31</td>\n",
       "      <td>17.954545</td>\n",
       "      <td>83.545455</td>\n",
       "      <td>11.181818</td>\n",
       "      <td>85.909091</td>\n",
       "      <td>30.100000</td>\n",
       "      <td>93.272727</td>\n",
       "      <td>985.781818</td>\n",
       "      <td>182.181818</td>\n",
       "      <td>5.363636</td>\n",
       "      <td>0</td>\n",
       "      <td>0</td>\n",
       "    </tr>\n",
       "    <tr>\n",
       "      <th>1</th>\n",
       "      <td>2019-01-01</td>\n",
       "      <td>17.145455</td>\n",
       "      <td>119.818182</td>\n",
       "      <td>9.000000</td>\n",
       "      <td>122.454545</td>\n",
       "      <td>32.600000</td>\n",
       "      <td>85.090909</td>\n",
       "      <td>988.036364</td>\n",
       "      <td>293.454545</td>\n",
       "      <td>2.009091</td>\n",
       "      <td>0</td>\n",
       "      <td>0</td>\n",
       "    </tr>\n",
       "    <tr>\n",
       "      <th>2</th>\n",
       "      <td>2019-01-02</td>\n",
       "      <td>13.372727</td>\n",
       "      <td>74.181818</td>\n",
       "      <td>5.363636</td>\n",
       "      <td>74.636364</td>\n",
       "      <td>29.018182</td>\n",
       "      <td>83.090909</td>\n",
       "      <td>989.472727</td>\n",
       "      <td>271.727273</td>\n",
       "      <td>0.736364</td>\n",
       "      <td>0</td>\n",
       "      <td>0</td>\n",
       "    </tr>\n",
       "    <tr>\n",
       "      <th>3</th>\n",
       "      <td>2019-01-03</td>\n",
       "      <td>12.481818</td>\n",
       "      <td>60.272727</td>\n",
       "      <td>0.000000</td>\n",
       "      <td>60.272727</td>\n",
       "      <td>32.000000</td>\n",
       "      <td>92.181818</td>\n",
       "      <td>985.063636</td>\n",
       "      <td>340.909091</td>\n",
       "      <td>1.545455</td>\n",
       "      <td>0</td>\n",
       "      <td>0</td>\n",
       "    </tr>\n",
       "    <tr>\n",
       "      <th>4</th>\n",
       "      <td>2019-01-04</td>\n",
       "      <td>14.909091</td>\n",
       "      <td>91.090909</td>\n",
       "      <td>110.000000</td>\n",
       "      <td>128.636364</td>\n",
       "      <td>24.436364</td>\n",
       "      <td>95.090909</td>\n",
       "      <td>975.718182</td>\n",
       "      <td>203.090909</td>\n",
       "      <td>5.545455</td>\n",
       "      <td>0</td>\n",
       "      <td>0</td>\n",
       "    </tr>\n",
       "    <tr>\n",
       "      <th>...</th>\n",
       "      <td>...</td>\n",
       "      <td>...</td>\n",
       "      <td>...</td>\n",
       "      <td>...</td>\n",
       "      <td>...</td>\n",
       "      <td>...</td>\n",
       "      <td>...</td>\n",
       "      <td>...</td>\n",
       "      <td>...</td>\n",
       "      <td>...</td>\n",
       "      <td>...</td>\n",
       "      <td>...</td>\n",
       "    </tr>\n",
       "    <tr>\n",
       "      <th>1087</th>\n",
       "      <td>2021-12-22</td>\n",
       "      <td>8.254545</td>\n",
       "      <td>36.818182</td>\n",
       "      <td>709.545455</td>\n",
       "      <td>319.545455</td>\n",
       "      <td>5.709091</td>\n",
       "      <td>47.000000</td>\n",
       "      <td>980.354545</td>\n",
       "      <td>316.272727</td>\n",
       "      <td>5.954545</td>\n",
       "      <td>0</td>\n",
       "      <td>0</td>\n",
       "    </tr>\n",
       "    <tr>\n",
       "      <th>1088</th>\n",
       "      <td>2021-12-23</td>\n",
       "      <td>10.527273</td>\n",
       "      <td>38.181818</td>\n",
       "      <td>699.545455</td>\n",
       "      <td>314.909091</td>\n",
       "      <td>6.927273</td>\n",
       "      <td>33.818182</td>\n",
       "      <td>988.518182</td>\n",
       "      <td>143.909091</td>\n",
       "      <td>1.818182</td>\n",
       "      <td>0</td>\n",
       "      <td>0</td>\n",
       "    </tr>\n",
       "    <tr>\n",
       "      <th>1089</th>\n",
       "      <td>2021-12-24</td>\n",
       "      <td>12.827273</td>\n",
       "      <td>115.454545</td>\n",
       "      <td>387.545455</td>\n",
       "      <td>246.181818</td>\n",
       "      <td>14.009091</td>\n",
       "      <td>50.909091</td>\n",
       "      <td>985.981818</td>\n",
       "      <td>206.818182</td>\n",
       "      <td>3.281818</td>\n",
       "      <td>0</td>\n",
       "      <td>0</td>\n",
       "    </tr>\n",
       "    <tr>\n",
       "      <th>1090</th>\n",
       "      <td>2021-12-25</td>\n",
       "      <td>16.627273</td>\n",
       "      <td>136.727273</td>\n",
       "      <td>27.909091</td>\n",
       "      <td>149.636364</td>\n",
       "      <td>25.745455</td>\n",
       "      <td>76.636364</td>\n",
       "      <td>980.272727</td>\n",
       "      <td>240.909091</td>\n",
       "      <td>5.054545</td>\n",
       "      <td>0</td>\n",
       "      <td>0</td>\n",
       "    </tr>\n",
       "    <tr>\n",
       "      <th>1091</th>\n",
       "      <td>2021-12-26</td>\n",
       "      <td>19.590000</td>\n",
       "      <td>115.000000</td>\n",
       "      <td>413.400000</td>\n",
       "      <td>284.300000</td>\n",
       "      <td>24.850000</td>\n",
       "      <td>73.900000</td>\n",
       "      <td>982.410000</td>\n",
       "      <td>254.700000</td>\n",
       "      <td>1.710000</td>\n",
       "      <td>0</td>\n",
       "      <td>0</td>\n",
       "    </tr>\n",
       "  </tbody>\n",
       "</table>\n",
       "<p>1092 rows × 12 columns</p>\n",
       "</div>"
      ],
      "text/plain": [
       "            Date  Temperature         DHI         DNI   Radiation  \\\n",
       "0     2018-12-31    17.954545   83.545455   11.181818   85.909091   \n",
       "1     2019-01-01    17.145455  119.818182    9.000000  122.454545   \n",
       "2     2019-01-02    13.372727   74.181818    5.363636   74.636364   \n",
       "3     2019-01-03    12.481818   60.272727    0.000000   60.272727   \n",
       "4     2019-01-04    14.909091   91.090909  110.000000  128.636364   \n",
       "...          ...          ...         ...         ...         ...   \n",
       "1087  2021-12-22     8.254545   36.818182  709.545455  319.545455   \n",
       "1088  2021-12-23    10.527273   38.181818  699.545455  314.909091   \n",
       "1089  2021-12-24    12.827273  115.454545  387.545455  246.181818   \n",
       "1090  2021-12-25    16.627273  136.727273   27.909091  149.636364   \n",
       "1091  2021-12-26    19.590000  115.000000  413.400000  284.300000   \n",
       "\n",
       "      Precipitation   Humidity    Pressure  WindDirection  WindSpeed Sunrise  \\\n",
       "0         30.100000  93.272727  985.781818     182.181818   5.363636       0   \n",
       "1         32.600000  85.090909  988.036364     293.454545   2.009091       0   \n",
       "2         29.018182  83.090909  989.472727     271.727273   0.736364       0   \n",
       "3         32.000000  92.181818  985.063636     340.909091   1.545455       0   \n",
       "4         24.436364  95.090909  975.718182     203.090909   5.545455       0   \n",
       "...             ...        ...         ...            ...        ...     ...   \n",
       "1087       5.709091  47.000000  980.354545     316.272727   5.954545       0   \n",
       "1088       6.927273  33.818182  988.518182     143.909091   1.818182       0   \n",
       "1089      14.009091  50.909091  985.981818     206.818182   3.281818       0   \n",
       "1090      25.745455  76.636364  980.272727     240.909091   5.054545       0   \n",
       "1091      24.850000  73.900000  982.410000     254.700000   1.710000       0   \n",
       "\n",
       "     Sunset  \n",
       "0         0  \n",
       "1         0  \n",
       "2         0  \n",
       "3         0  \n",
       "4         0  \n",
       "...     ...  \n",
       "1087      0  \n",
       "1088      0  \n",
       "1089      0  \n",
       "1090      0  \n",
       "1091      0  \n",
       "\n",
       "[1092 rows x 12 columns]"
      ]
     },
     "execution_count": 29,
     "metadata": {},
     "output_type": "execute_result"
    }
   ],
   "source": [
    "df_grouped = data_init.groupby(['Date']).agg(agg_dict)\n",
    "df_grouped.reset_index(inplace=True)\n",
    "df_grouped"
   ]
  },
  {
   "cell_type": "code",
   "execution_count": 30,
   "id": "b2ecbc1d",
   "metadata": {},
   "outputs": [],
   "source": [
    "df_grouped['Sunrise'] = df_grouped['Sunrise'].astype(int) \n",
    "df_grouped['Sunset'] = df_grouped['Sunset'].astype(int) \n",
    "df_grouped['Month'] = pd.to_datetime(df_grouped['Date']).dt.month"
   ]
  },
  {
   "cell_type": "code",
   "execution_count": 31,
   "id": "01947281",
   "metadata": {},
   "outputs": [
    {
     "data": {
      "text/html": [
       "<div>\n",
       "<style scoped>\n",
       "    .dataframe tbody tr th:only-of-type {\n",
       "        vertical-align: middle;\n",
       "    }\n",
       "\n",
       "    .dataframe tbody tr th {\n",
       "        vertical-align: top;\n",
       "    }\n",
       "\n",
       "    .dataframe thead th {\n",
       "        text-align: right;\n",
       "    }\n",
       "</style>\n",
       "<table border=\"1\" class=\"dataframe\">\n",
       "  <thead>\n",
       "    <tr style=\"text-align: right;\">\n",
       "      <th></th>\n",
       "      <th>Date</th>\n",
       "      <th>Temperature</th>\n",
       "      <th>DHI</th>\n",
       "      <th>DNI</th>\n",
       "      <th>Radiation</th>\n",
       "      <th>Precipitation</th>\n",
       "      <th>Humidity</th>\n",
       "      <th>Pressure</th>\n",
       "      <th>WindDirection</th>\n",
       "      <th>WindSpeed</th>\n",
       "      <th>Sunrise</th>\n",
       "      <th>Sunset</th>\n",
       "      <th>Month</th>\n",
       "    </tr>\n",
       "  </thead>\n",
       "  <tbody>\n",
       "    <tr>\n",
       "      <th>0</th>\n",
       "      <td>2018-12-31</td>\n",
       "      <td>17.954545</td>\n",
       "      <td>83.545455</td>\n",
       "      <td>11.181818</td>\n",
       "      <td>85.909091</td>\n",
       "      <td>30.100000</td>\n",
       "      <td>93.272727</td>\n",
       "      <td>985.781818</td>\n",
       "      <td>182.181818</td>\n",
       "      <td>5.363636</td>\n",
       "      <td>0</td>\n",
       "      <td>0</td>\n",
       "      <td>12</td>\n",
       "    </tr>\n",
       "    <tr>\n",
       "      <th>1</th>\n",
       "      <td>2019-01-01</td>\n",
       "      <td>17.145455</td>\n",
       "      <td>119.818182</td>\n",
       "      <td>9.000000</td>\n",
       "      <td>122.454545</td>\n",
       "      <td>32.600000</td>\n",
       "      <td>85.090909</td>\n",
       "      <td>988.036364</td>\n",
       "      <td>293.454545</td>\n",
       "      <td>2.009091</td>\n",
       "      <td>0</td>\n",
       "      <td>0</td>\n",
       "      <td>1</td>\n",
       "    </tr>\n",
       "    <tr>\n",
       "      <th>2</th>\n",
       "      <td>2019-01-02</td>\n",
       "      <td>13.372727</td>\n",
       "      <td>74.181818</td>\n",
       "      <td>5.363636</td>\n",
       "      <td>74.636364</td>\n",
       "      <td>29.018182</td>\n",
       "      <td>83.090909</td>\n",
       "      <td>989.472727</td>\n",
       "      <td>271.727273</td>\n",
       "      <td>0.736364</td>\n",
       "      <td>0</td>\n",
       "      <td>0</td>\n",
       "      <td>1</td>\n",
       "    </tr>\n",
       "    <tr>\n",
       "      <th>3</th>\n",
       "      <td>2019-01-03</td>\n",
       "      <td>12.481818</td>\n",
       "      <td>60.272727</td>\n",
       "      <td>0.000000</td>\n",
       "      <td>60.272727</td>\n",
       "      <td>32.000000</td>\n",
       "      <td>92.181818</td>\n",
       "      <td>985.063636</td>\n",
       "      <td>340.909091</td>\n",
       "      <td>1.545455</td>\n",
       "      <td>0</td>\n",
       "      <td>0</td>\n",
       "      <td>1</td>\n",
       "    </tr>\n",
       "  </tbody>\n",
       "</table>\n",
       "</div>"
      ],
      "text/plain": [
       "         Date  Temperature         DHI        DNI   Radiation  Precipitation  \\\n",
       "0  2018-12-31    17.954545   83.545455  11.181818   85.909091      30.100000   \n",
       "1  2019-01-01    17.145455  119.818182   9.000000  122.454545      32.600000   \n",
       "2  2019-01-02    13.372727   74.181818   5.363636   74.636364      29.018182   \n",
       "3  2019-01-03    12.481818   60.272727   0.000000   60.272727      32.000000   \n",
       "\n",
       "    Humidity    Pressure  WindDirection  WindSpeed  Sunrise  Sunset  Month  \n",
       "0  93.272727  985.781818     182.181818   5.363636        0       0     12  \n",
       "1  85.090909  988.036364     293.454545   2.009091        0       0      1  \n",
       "2  83.090909  989.472727     271.727273   0.736364        0       0      1  \n",
       "3  92.181818  985.063636     340.909091   1.545455        0       0      1  "
      ]
     },
     "execution_count": 31,
     "metadata": {},
     "output_type": "execute_result"
    }
   ],
   "source": [
    "df_grouped.head(4)"
   ]
  },
  {
   "cell_type": "code",
   "execution_count": 32,
   "id": "027ca72e",
   "metadata": {},
   "outputs": [
    {
     "data": {
      "text/plain": [
       "(1092, 13)"
      ]
     },
     "execution_count": 32,
     "metadata": {},
     "output_type": "execute_result"
    }
   ],
   "source": [
    "df_grouped.shape"
   ]
  },
  {
   "cell_type": "markdown",
   "id": "ebe8735a",
   "metadata": {},
   "source": [
    "#### Step: Save Data into CSV"
   ]
  },
  {
   "cell_type": "code",
   "execution_count": 36,
   "id": "08148cf7",
   "metadata": {},
   "outputs": [],
   "source": [
    "save_file = '../data/clean_data.csv'"
   ]
  },
  {
   "cell_type": "code",
   "execution_count": null,
   "id": "7bdc8040",
   "metadata": {},
   "outputs": [],
   "source": []
  },
  {
   "cell_type": "code",
   "execution_count": 37,
   "id": "35056b00",
   "metadata": {},
   "outputs": [],
   "source": [
    "df_grouped.to_csv(save_file, index=False)"
   ]
  }
 ],
 "metadata": {
  "kernelspec": {
   "display_name": "Python 3",
   "language": "python",
   "name": "python3"
  },
  "language_info": {
   "codemirror_mode": {
    "name": "ipython",
    "version": 3
   },
   "file_extension": ".py",
   "mimetype": "text/x-python",
   "name": "python",
   "nbconvert_exporter": "python",
   "pygments_lexer": "ipython3",
   "version": "3.6.9"
  },
  "toc": {
   "base_numbering": 1,
   "nav_menu": {},
   "number_sections": true,
   "sideBar": true,
   "skip_h1_title": false,
   "title_cell": "Table of Contents",
   "title_sidebar": "Contents",
   "toc_cell": false,
   "toc_position": {},
   "toc_section_display": true,
   "toc_window_display": false
  }
 },
 "nbformat": 4,
 "nbformat_minor": 5
}
